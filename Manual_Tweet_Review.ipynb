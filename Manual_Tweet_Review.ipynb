{
 "cells": [
  {
   "cell_type": "code",
   "execution_count": 1,
   "metadata": {
    "scrolled": false
   },
   "outputs": [
    {
     "data": {
      "text/html": [
       "<div>\n",
       "<style scoped>\n",
       "    .dataframe tbody tr th:only-of-type {\n",
       "        vertical-align: middle;\n",
       "    }\n",
       "\n",
       "    .dataframe tbody tr th {\n",
       "        vertical-align: top;\n",
       "    }\n",
       "\n",
       "    .dataframe thead th {\n",
       "        text-align: right;\n",
       "    }\n",
       "</style>\n",
       "<table border=\"1\" class=\"dataframe\">\n",
       "  <thead>\n",
       "    <tr style=\"text-align: right;\">\n",
       "      <th></th>\n",
       "      <th>index</th>\n",
       "      <th>anger</th>\n",
       "      <th>anticipation</th>\n",
       "      <th>disgust</th>\n",
       "      <th>fear</th>\n",
       "      <th>joy</th>\n",
       "      <th>love</th>\n",
       "      <th>optimism</th>\n",
       "      <th>pessimism</th>\n",
       "      <th>sadness</th>\n",
       "      <th>surprise</th>\n",
       "      <th>text</th>\n",
       "      <th>neg</th>\n",
       "      <th>neu</th>\n",
       "      <th>pos</th>\n",
       "      <th>compound</th>\n",
       "      <th>main_emotion</th>\n",
       "      <th>label</th>\n",
       "    </tr>\n",
       "  </thead>\n",
       "  <tbody>\n",
       "    <tr>\n",
       "      <th>0</th>\n",
       "      <td>0</td>\n",
       "      <td>0</td>\n",
       "      <td>0</td>\n",
       "      <td>0</td>\n",
       "      <td>0</td>\n",
       "      <td>0</td>\n",
       "      <td>0</td>\n",
       "      <td>0</td>\n",
       "      <td>0</td>\n",
       "      <td>0</td>\n",
       "      <td>0</td>\n",
       "      <td>17/3/21 The Pavilion, inkpen and watercolour s...</td>\n",
       "      <td>0.000</td>\n",
       "      <td>1.000</td>\n",
       "      <td>0.000</td>\n",
       "      <td>0.0000</td>\n",
       "      <td></td>\n",
       "      <td></td>\n",
       "    </tr>\n",
       "    <tr>\n",
       "      <th>12</th>\n",
       "      <td>12</td>\n",
       "      <td>0</td>\n",
       "      <td>0</td>\n",
       "      <td>0</td>\n",
       "      <td>0</td>\n",
       "      <td>1</td>\n",
       "      <td>0</td>\n",
       "      <td>1</td>\n",
       "      <td>0</td>\n",
       "      <td>0</td>\n",
       "      <td>0</td>\n",
       "      <td>Got jabbed today! ✅ 💉 🥊 🦠 vaccination for the ...</td>\n",
       "      <td>0.000</td>\n",
       "      <td>0.838</td>\n",
       "      <td>0.162</td>\n",
       "      <td>0.5399</td>\n",
       "      <td></td>\n",
       "      <td></td>\n",
       "    </tr>\n",
       "    <tr>\n",
       "      <th>35</th>\n",
       "      <td>35</td>\n",
       "      <td>1</td>\n",
       "      <td>0</td>\n",
       "      <td>0</td>\n",
       "      <td>0</td>\n",
       "      <td>0</td>\n",
       "      <td>0</td>\n",
       "      <td>0</td>\n",
       "      <td>0</td>\n",
       "      <td>0</td>\n",
       "      <td>0</td>\n",
       "      <td>The Time of Corona_ COVID-19 Vaccine Suspended...</td>\n",
       "      <td>0.205</td>\n",
       "      <td>0.795</td>\n",
       "      <td>0.000</td>\n",
       "      <td>-0.4767</td>\n",
       "      <td></td>\n",
       "      <td></td>\n",
       "    </tr>\n",
       "    <tr>\n",
       "      <th>49</th>\n",
       "      <td>49</td>\n",
       "      <td>0</td>\n",
       "      <td>1</td>\n",
       "      <td>0</td>\n",
       "      <td>0</td>\n",
       "      <td>0</td>\n",
       "      <td>0</td>\n",
       "      <td>0</td>\n",
       "      <td>0</td>\n",
       "      <td>0</td>\n",
       "      <td>0</td>\n",
       "      <td>Tracker in place! Looking forward to my 1:100,...</td>\n",
       "      <td>0.000</td>\n",
       "      <td>0.867</td>\n",
       "      <td>0.133</td>\n",
       "      <td>0.3164</td>\n",
       "      <td></td>\n",
       "      <td></td>\n",
       "    </tr>\n",
       "    <tr>\n",
       "      <th>52</th>\n",
       "      <td>52</td>\n",
       "      <td>1</td>\n",
       "      <td>0</td>\n",
       "      <td>0</td>\n",
       "      <td>0</td>\n",
       "      <td>0</td>\n",
       "      <td>0</td>\n",
       "      <td>0</td>\n",
       "      <td>0</td>\n",
       "      <td>0</td>\n",
       "      <td>0</td>\n",
       "      <td>The #EU is full of #clots #AstraZeneca  #Covid...</td>\n",
       "      <td>0.000</td>\n",
       "      <td>1.000</td>\n",
       "      <td>0.000</td>\n",
       "      <td>0.0000</td>\n",
       "      <td></td>\n",
       "      <td></td>\n",
       "    </tr>\n",
       "  </tbody>\n",
       "</table>\n",
       "</div>"
      ],
      "text/plain": [
       "    index  anger  anticipation  disgust  fear  joy  love  optimism  pessimism  \\\n",
       "0       0      0             0        0     0    0     0         0          0   \n",
       "12     12      0             0        0     0    1     0         1          0   \n",
       "35     35      1             0        0     0    0     0         0          0   \n",
       "49     49      0             1        0     0    0     0         0          0   \n",
       "52     52      1             0        0     0    0     0         0          0   \n",
       "\n",
       "    sadness  surprise                                               text  \\\n",
       "0         0         0  17/3/21 The Pavilion, inkpen and watercolour s...   \n",
       "12        0         0  Got jabbed today! ✅ 💉 🥊 🦠 vaccination for the ...   \n",
       "35        0         0  The Time of Corona_ COVID-19 Vaccine Suspended...   \n",
       "49        0         0  Tracker in place! Looking forward to my 1:100,...   \n",
       "52        0         0  The #EU is full of #clots #AstraZeneca  #Covid...   \n",
       "\n",
       "      neg    neu    pos  compound main_emotion label  \n",
       "0   0.000  1.000  0.000    0.0000                     \n",
       "12  0.000  0.838  0.162    0.5399                     \n",
       "35  0.205  0.795  0.000   -0.4767                     \n",
       "49  0.000  0.867  0.133    0.3164                     \n",
       "52  0.000  1.000  0.000    0.0000                     "
      ]
     },
     "execution_count": 1,
     "metadata": {},
     "output_type": "execute_result"
    }
   ],
   "source": [
    "import pandas as pd\n",
    "from pprint import pprint\n",
    "import webbrowser\n",
    "import random \n",
    "\n",
    "#read in data\n",
    "filepath = \"Result_combined.csv\"\n",
    "roberta = pd.read_csv(filepath, sep=\"\\t\") \n",
    "roberta.columns = [\"index\"] + list(roberta.columns)[1:] #place index first for easy tracking\n",
    "\n",
    "#minimal processing\n",
    "roberta = roberta[~roberta.text.str.startswith(\"RT\")] #remove retweets, many duplicates and non-original content\n",
    "roberta['text'] = roberta.text.apply(lambda x: x + \"  \") #add space to text, allows easy URL access\n",
    "roberta = roberta.drop(columns=['emotions', 'trust']) #Raf noted Trust is not meaningful, emotions list field is hard to manage\n",
    "\n",
    "#add new fields to update\n",
    "roberta['main_emotion'] = \"\"\n",
    "roberta['label'] = \"\"\n",
    "\n",
    "roberta.head()"
   ]
  },
  {
   "cell_type": "code",
   "execution_count": 2,
   "metadata": {},
   "outputs": [
    {
     "data": {
      "text/plain": [
       "405983"
      ]
     },
     "execution_count": 2,
     "metadata": {},
     "output_type": "execute_result"
    }
   ],
   "source": [
    "dicts = roberta.to_dict(orient='records') #convert dataset to list of dictionaries\n",
    "\n",
    "dicts = dicts[0:100000] #UPDATE THIS FOR YOUR PERSONAL RANGE\n",
    "#Kip 0-100k\n",
    "#Arshiya 100k-200k\n",
    "#David 200k-300k\n",
    "#Tiger 300k-400k\n",
    "\n",
    "dictlen = len(dicts) #print number of samples\n",
    "dictlen\n"
   ]
  },
  {
   "cell_type": "code",
   "execution_count": 3,
   "metadata": {},
   "outputs": [],
   "source": [
    "counter = 81 #start at this progress index"
   ]
  },
  {
   "cell_type": "code",
   "execution_count": 20,
   "metadata": {
    "scrolled": false
   },
   "outputs": [
    {
     "name": "stdout",
     "output_type": "stream",
     "text": [
      "you're reviewing tweet # 87\n",
      "\n",
      "\n",
      ",\n",
      "\n"
     ]
    },
    {
     "data": {
      "text/plain": [
       "{'index': 464805,\n",
       " 'anger': 0,\n",
       " 'anticipation': 0,\n",
       " 'disgust': 0,\n",
       " 'fear': 0,\n",
       " 'joy': 1,\n",
       " 'love': 0,\n",
       " 'optimism': 0,\n",
       " 'pessimism': 0,\n",
       " 'sadness': 0,\n",
       " 'surprise': 0,\n",
       " 'text': 'I’m 56 hours ish post COVID vaccination - I had the AstraZeneca, aside from a tender arm as is expected after *any… https://t.co/ZvDjYNVwDX  ',\n",
       " 'neg': 0.0,\n",
       " 'neu': 1.0,\n",
       " 'pos': 0.0,\n",
       " 'compound': 0.0,\n",
       " 'main_emotion': '',\n",
       " 'label': ''}"
      ]
     },
     "execution_count": 20,
     "metadata": {},
     "output_type": "execute_result"
    }
   ],
   "source": [
    "randi = random.randint(1, dictlen) #generate random index\n",
    "print(f\"you're reviewing tweet # {counter}\\n\\n\") #print out progress\n",
    "\n",
    "print(\",\\n\") #add space for easier copy/paste\n",
    "counter += 1 #increment counter\n",
    "nextid = dicts[randi] #grab next random sample\n",
    "\n",
    "#get link if existing and open in new tab\n",
    "tok = nextid['text'].split(\" \") \n",
    "tok = [x for x in tok if \"http\" in x]\n",
    "if tok:\n",
    "    webbrowser.open(tok[-1])\n",
    "    \n",
    "nextid #print out current tweet\n",
    "\n",
    "#surprise, sadness, fear, joy"
   ]
  },
  {
   "cell_type": "code",
   "execution_count": 30,
   "metadata": {},
   "outputs": [],
   "source": [
    "import json \n",
    "import ast\n",
    "\n",
    "with open(\"manual_coding.txt\", encoding=\"utf-8-sig\") as f:\n",
    "    txt = f.read()\n",
    "    \n",
    "txt = ast.literal_eval(txt)\n",
    "df = pd.DataFrame(txt)"
   ]
  },
  {
   "cell_type": "code",
   "execution_count": 35,
   "metadata": {},
   "outputs": [
    {
     "data": {
      "text/plain": [
       "<AxesSubplot:>"
      ]
     },
     "execution_count": 35,
     "metadata": {},
     "output_type": "execute_result"
    },
    {
     "data": {
      "image/png": "[encoded data removed]",
      "text/plain": [
       "<Figure size 1080x1080 with 1 Axes>"
      ]
     },
     "metadata": {
      "needs_background": "light"
     },
     "output_type": "display_data"
    }
   ],
   "source": [
    "df.main_emotion.hist(figsize=(15,15))"
   ]
  },
  {
   "cell_type": "code",
   "execution_count": null,
   "metadata": {},
   "outputs": [],
   "source": []
  }
 ],
 "metadata": {
  "kernelspec": {
   "display_name": "scraper",
   "language": "python",
   "name": "scraper"
  },
  "language_info": {
   "codemirror_mode": {
    "name": "ipython",
    "version": 3
   },
   "file_extension": ".py",
   "mimetype": "text/x-python",
   "name": "python",
   "nbconvert_exporter": "python",
   "pygments_lexer": "ipython3",
   "version": "3.7.1"
  }
 },
 "nbformat": 4,
 "nbformat_minor": 4
}
