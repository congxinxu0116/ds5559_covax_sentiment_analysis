{
 "cells": [
  {
   "cell_type": "markdown",
   "metadata": {},
   "source": [
    "# Final Project: Sentiment Analysis on COVID-19 Vaccine with Tweets\n",
    "\n",
    "- Number of records\n",
    "- Number of columns\n",
    "- Statistical summary of response variable\n",
    "- Statistical summary of potential predictor variables (if there are a large number of predictors, select the top 10)\n",
    "- Note: Summarize categorical variables with counts and percentages for each level and summarize numerical variables with mean/quantiles/standard deviation. Include up to five helpful graphs\n",
    "\n"
   ]
  },
  {
   "cell_type": "code",
   "execution_count": 1,
   "metadata": {},
   "outputs": [
    {
     "name": "stdout",
     "output_type": "stream",
     "text": [
      "/project/ds5559/twitter_sentiment_analysis_group/hashtag_output_210318_0309.csv\n",
      "/project/ds5559/twitter_sentiment_analysis_group/hashtag_output_210320_1148.csv\n",
      "/project/ds5559/twitter_sentiment_analysis_group/hashtag_output_210321_1119.csv\n",
      "/project/ds5559/twitter_sentiment_analysis_group/hashtag_output_210318_1359.csv\n",
      "/project/ds5559/twitter_sentiment_analysis_group/hashtag_output_early_attempt.csv\n",
      "/project/ds5559/twitter_sentiment_analysis_group/hashtag_output_210319_1252.csv\n",
      "/project/ds5559/twitter_sentiment_analysis_group/hashtag_output_210319_2253.csv\n",
      "/project/ds5559/twitter_sentiment_analysis_group/hashtag_output_210320_0902.csv\n",
      "/project/ds5559/twitter_sentiment_analysis_group/hashtag_output_210317_1203.csv\n",
      "/project/ds5559/twitter_sentiment_analysis_group/hashtag_output_210321_0531.csv\n",
      "/project/ds5559/twitter_sentiment_analysis_group/hashtag_output_210321_0055.csv\n",
      "/project/ds5559/twitter_sentiment_analysis_group/hashtag_output_210321_1044.csv\n",
      "/project/ds5559/twitter_sentiment_analysis_group/hashtag_output_210318_1401.csv\n",
      "/project/ds5559/twitter_sentiment_analysis_group/hashtag_output_210320_4511.csv\n",
      "1244091\n"
     ]
    }
   ],
   "source": [
    "import pandas\n",
    "import os\n",
    "import pandas as pd\n",
    "\n",
    "# Getting the current directory of interest\n",
    "thisdir = '/project/ds5559/twitter_sentiment_analysis_group/'\n",
    "\n",
    "dfALL = pd.DataFrame()\n",
    "\n",
    "# r=root, d=directories, f = files\n",
    "for r, d, f in os.walk(thisdir):\n",
    "    for file in f:\n",
    "        if file.endswith(\".csv\"):\n",
    "            filedir = os.path.join(r, file)\n",
    "            print(filedir)\n",
    "            tmpdf = pd.read_csv(filedir, index_col = 0, lineterminator='\\n')\n",
    "            dfALL = pd.concat([dfALL, tmpdf])\n",
    "\n",
    "print(len(dfALL.index))\n"
   ]
  },
  {
   "cell_type": "markdown",
   "metadata": {},
   "source": [
    "## Data Frame Dimension"
   ]
  },
  {
   "cell_type": "code",
   "execution_count": 2,
   "metadata": {},
   "outputs": [
    {
     "name": "stdout",
     "output_type": "stream",
     "text": [
      "Our data frame contains 1244091 rows and 20 columns\n"
     ]
    }
   ],
   "source": [
    "# data_cx.shape\n",
    "print(f'Our data frame contains {dfALL.shape[0]} rows and {dfALL.shape[1]} columns')"
   ]
  },
  {
   "cell_type": "code",
   "execution_count": 3,
   "metadata": {},
   "outputs": [
    {
     "data": {
      "text/html": [
       "<div>\n",
       "<style scoped>\n",
       "    .dataframe tbody tr th:only-of-type {\n",
       "        vertical-align: middle;\n",
       "    }\n",
       "\n",
       "    .dataframe tbody tr th {\n",
       "        vertical-align: top;\n",
       "    }\n",
       "\n",
       "    .dataframe thead th {\n",
       "        text-align: right;\n",
       "    }\n",
       "</style>\n",
       "<table border=\"1\" class=\"dataframe\">\n",
       "  <thead>\n",
       "    <tr style=\"text-align: right;\">\n",
       "      <th></th>\n",
       "      <th>scraped_hashtag</th>\n",
       "      <th>scraped_order</th>\n",
       "      <th>created_at</th>\n",
       "      <th>id_str</th>\n",
       "      <th>text</th>\n",
       "      <th>truncated</th>\n",
       "      <th>in_reply_to_screen_name</th>\n",
       "      <th>retweet_count</th>\n",
       "      <th>favorite_count</th>\n",
       "      <th>lang</th>\n",
       "      <th>screen_name</th>\n",
       "      <th>user_name</th>\n",
       "      <th>user_description</th>\n",
       "      <th>user_verified</th>\n",
       "      <th>user_followers_count</th>\n",
       "      <th>hashtags</th>\n",
       "      <th>symbols</th>\n",
       "      <th>og_tweet_by</th>\n",
       "      <th>og_tweet_truncated\\r</th>\n",
       "      <th>og_tweet_truncated</th>\n",
       "    </tr>\n",
       "  </thead>\n",
       "  <tbody>\n",
       "    <tr>\n",
       "      <th>0</th>\n",
       "      <td>#vaccine</td>\n",
       "      <td>0</td>\n",
       "      <td>Thu Mar 18 01:05:26 +0000 2021</td>\n",
       "      <td>1372353417507565569</td>\n",
       "      <td>BIG NEWS from @GovSisolak: #COVID19Vaccine eli...</td>\n",
       "      <td>True</td>\n",
       "      <td>NaN</td>\n",
       "      <td>0</td>\n",
       "      <td>0</td>\n",
       "      <td>en</td>\n",
       "      <td>atdleft</td>\n",
       "      <td>Andrew Davey</td>\n",
       "      <td>Muckraker, troublemaker, &amp; no-BS-taker. I'm a ...</td>\n",
       "      <td>False</td>\n",
       "      <td>2034</td>\n",
       "      <td>['COVID19Vaccine']</td>\n",
       "      <td>[]</td>\n",
       "      <td>NaN</td>\n",
       "      <td>\\r</td>\n",
       "      <td>NaN</td>\n",
       "    </tr>\n",
       "    <tr>\n",
       "      <th>1</th>\n",
       "      <td>#vaccine</td>\n",
       "      <td>0</td>\n",
       "      <td>Thu Mar 18 01:05:15 +0000 2021</td>\n",
       "      <td>1372353373123407879</td>\n",
       "      <td>@TerryBrady2097 This #Health #COVID19 #Vaccine...</td>\n",
       "      <td>True</td>\n",
       "      <td>TerryBrady2097</td>\n",
       "      <td>0</td>\n",
       "      <td>0</td>\n",
       "      <td>en</td>\n",
       "      <td>pully8</td>\n",
       "      <td>rose lane</td>\n",
       "      <td>NaN</td>\n",
       "      <td>False</td>\n",
       "      <td>513</td>\n",
       "      <td>['Health', 'COVID19', 'Vaccine', 'agedcare']</td>\n",
       "      <td>[]</td>\n",
       "      <td>NaN</td>\n",
       "      <td>\\r</td>\n",
       "      <td>NaN</td>\n",
       "    </tr>\n",
       "  </tbody>\n",
       "</table>\n",
       "</div>"
      ],
      "text/plain": [
       "  scraped_hashtag  scraped_order                      created_at  \\\n",
       "0        #vaccine              0  Thu Mar 18 01:05:26 +0000 2021   \n",
       "1        #vaccine              0  Thu Mar 18 01:05:15 +0000 2021   \n",
       "\n",
       "                id_str                                               text  \\\n",
       "0  1372353417507565569  BIG NEWS from @GovSisolak: #COVID19Vaccine eli...   \n",
       "1  1372353373123407879  @TerryBrady2097 This #Health #COVID19 #Vaccine...   \n",
       "\n",
       "   truncated in_reply_to_screen_name  retweet_count  favorite_count lang  \\\n",
       "0       True                     NaN              0               0   en   \n",
       "1       True          TerryBrady2097              0               0   en   \n",
       "\n",
       "  screen_name     user_name  \\\n",
       "0     atdleft  Andrew Davey   \n",
       "1      pully8     rose lane   \n",
       "\n",
       "                                    user_description  user_verified  \\\n",
       "0  Muckraker, troublemaker, & no-BS-taker. I'm a ...          False   \n",
       "1                                                NaN          False   \n",
       "\n",
       "   user_followers_count                                      hashtags symbols  \\\n",
       "0                  2034                            ['COVID19Vaccine']      []   \n",
       "1                   513  ['Health', 'COVID19', 'Vaccine', 'agedcare']      []   \n",
       "\n",
       "  og_tweet_by og_tweet_truncated\\r og_tweet_truncated  \n",
       "0         NaN                   \\r                NaN  \n",
       "1         NaN                   \\r                NaN  "
      ]
     },
     "execution_count": 3,
     "metadata": {},
     "output_type": "execute_result"
    }
   ],
   "source": [
    "data = dfALL.copy()\n",
    "data.head(2)"
   ]
  },
  {
   "cell_type": "code",
   "execution_count": 6,
   "metadata": {},
   "outputs": [
    {
     "data": {
      "text/plain": [
       "Index(['scraped_hashtag', 'scraped_order', 'created_at', 'id_str', 'text',\n",
       "       'truncated', 'in_reply_to_screen_name', 'retweet_count',\n",
       "       'favorite_count', 'lang', 'screen_name', 'user_name',\n",
       "       'user_description', 'user_verified', 'user_followers_count', 'hashtags',\n",
       "       'symbols', 'og_tweet_by', 'og_tweet_truncated\\r', 'og_tweet_truncated'],\n",
       "      dtype='object')"
      ]
     },
     "execution_count": 6,
     "metadata": {},
     "output_type": "execute_result"
    }
   ],
   "source": [
    "data.columns"
   ]
  },
  {
   "cell_type": "markdown",
   "metadata": {},
   "source": [
    "Goals:\n",
    "- Statistical summary of potential predictor variables (if there are a large number of predictors, select the top 10)\n",
    "- Summarize categorical variables with counts and percentages for each level and summarize numerical variables with mean/quantiles/standard deviation. Include up to five helpful graphs"
   ]
  },
  {
   "cell_type": "markdown",
   "metadata": {},
   "source": [
    "## Response Variable\n",
    "\n",
    "What we are planning to do is an unsupervised learning process, which aims to extract the sentiments of the general public towards the COVID-19 vaccine."
   ]
  },
  {
   "cell_type": "markdown",
   "metadata": {},
   "source": [
    "## Predictor Variable\n",
    "Our main predictor variable will be the `text` column "
   ]
  },
  {
   "cell_type": "code",
   "execution_count": 4,
   "metadata": {},
   "outputs": [
    {
     "data": {
      "text/plain": [
       "count                                               1244091\n",
       "unique                                               165921\n",
       "top       RT @DrEricDing: VACCINE ESCAPE OF VARIANTS vs ...\n",
       "freq                                                  14260\n",
       "Name: text, dtype: object"
      ]
     },
     "execution_count": 4,
     "metadata": {},
     "output_type": "execute_result"
    }
   ],
   "source": [
    "data.text.describe()"
   ]
  },
  {
   "cell_type": "code",
   "execution_count": 5,
   "metadata": {},
   "outputs": [
    {
     "data": {
      "text/html": [
       "<div>\n",
       "<style scoped>\n",
       "    .dataframe tbody tr th:only-of-type {\n",
       "        vertical-align: middle;\n",
       "    }\n",
       "\n",
       "    .dataframe tbody tr th {\n",
       "        vertical-align: top;\n",
       "    }\n",
       "\n",
       "    .dataframe thead th {\n",
       "        text-align: right;\n",
       "    }\n",
       "</style>\n",
       "<table border=\"1\" class=\"dataframe\">\n",
       "  <thead>\n",
       "    <tr style=\"text-align: right;\">\n",
       "      <th></th>\n",
       "      <th>scraped_hashtag</th>\n",
       "      <th>scraped_order</th>\n",
       "      <th>created_at</th>\n",
       "      <th>id_str</th>\n",
       "      <th>text</th>\n",
       "      <th>truncated</th>\n",
       "      <th>in_reply_to_screen_name</th>\n",
       "      <th>retweet_count</th>\n",
       "      <th>favorite_count</th>\n",
       "      <th>lang</th>\n",
       "      <th>screen_name</th>\n",
       "      <th>user_name</th>\n",
       "      <th>user_description</th>\n",
       "      <th>user_verified</th>\n",
       "      <th>user_followers_count</th>\n",
       "      <th>hashtags</th>\n",
       "      <th>symbols</th>\n",
       "      <th>og_tweet_by</th>\n",
       "      <th>og_tweet_truncated\\r</th>\n",
       "      <th>og_tweet_truncated</th>\n",
       "    </tr>\n",
       "  </thead>\n",
       "  <tbody>\n",
       "    <tr>\n",
       "      <th>148866</th>\n",
       "      <td>mrna</td>\n",
       "      <td>46</td>\n",
       "      <td>Sun Mar 21 06:52:30 +0000 2021</td>\n",
       "      <td>1373527921843789825</td>\n",
       "      <td>!! BOMBSHEL !! MAJOR ALERT !!\\n\\n#Moderna Chie...</td>\n",
       "      <td>True</td>\n",
       "      <td>NaN</td>\n",
       "      <td>2</td>\n",
       "      <td>1</td>\n",
       "      <td>en</td>\n",
       "      <td>sheasie</td>\n",
       "      <td>Xolotl Tlaloc (XTC) Ⓥ</td>\n",
       "      <td>knowledge is power\\n\\nxolotltlaloc @ https://t...</td>\n",
       "      <td>False</td>\n",
       "      <td>383</td>\n",
       "      <td>['Moderna']</td>\n",
       "      <td>[]</td>\n",
       "      <td>NaN</td>\n",
       "      <td>NaN</td>\n",
       "      <td>NaN</td>\n",
       "    </tr>\n",
       "    <tr>\n",
       "      <th>70037</th>\n",
       "      <td>mrna</td>\n",
       "      <td>49</td>\n",
       "      <td>Sun Mar 21 06:52:30 +0000 2021</td>\n",
       "      <td>1373527921843789825</td>\n",
       "      <td>!! BOMBSHEL !! MAJOR ALERT !!\\n\\n#Moderna Chie...</td>\n",
       "      <td>True</td>\n",
       "      <td>NaN</td>\n",
       "      <td>3</td>\n",
       "      <td>1</td>\n",
       "      <td>en</td>\n",
       "      <td>sheasie</td>\n",
       "      <td>Xolotl Tlaloc (XTC) Ⓥ</td>\n",
       "      <td>knowledge is power\\n\\nxolotltlaloc @ https://t...</td>\n",
       "      <td>False</td>\n",
       "      <td>387</td>\n",
       "      <td>['Moderna']</td>\n",
       "      <td>[]</td>\n",
       "      <td>NaN</td>\n",
       "      <td>\\r</td>\n",
       "      <td>NaN</td>\n",
       "    </tr>\n",
       "    <tr>\n",
       "      <th>151123</th>\n",
       "      <td>mrna</td>\n",
       "      <td>46</td>\n",
       "      <td>Thu Mar 18 22:58:46 +0000 2021</td>\n",
       "      <td>1372683927509417984</td>\n",
       "      <td>!!! —&amp;gt; We Fact-Checked This Dramatic mRNA V...</td>\n",
       "      <td>False</td>\n",
       "      <td>NaN</td>\n",
       "      <td>0</td>\n",
       "      <td>0</td>\n",
       "      <td>en</td>\n",
       "      <td>lisago_van</td>\n",
       "      <td>lisa van nostrand</td>\n",
       "      <td>“This is no time for ease and comfort. It is t...</td>\n",
       "      <td>False</td>\n",
       "      <td>221</td>\n",
       "      <td>[]</td>\n",
       "      <td>[]</td>\n",
       "      <td>NaN</td>\n",
       "      <td>\\r</td>\n",
       "      <td>NaN</td>\n",
       "    </tr>\n",
       "    <tr>\n",
       "      <th>91946</th>\n",
       "      <td>astrazenecavaccine</td>\n",
       "      <td>31</td>\n",
       "      <td>Thu Mar 11 11:52:21 +0000 2021</td>\n",
       "      <td>1369979505545154568</td>\n",
       "      <td>\"  #AstraZeneca Slides As #Denmark #Suspends #...</td>\n",
       "      <td>False</td>\n",
       "      <td>NaN</td>\n",
       "      <td>0</td>\n",
       "      <td>1</td>\n",
       "      <td>en</td>\n",
       "      <td>Flemington455</td>\n",
       "      <td>Welfare of the People should be the Supreme Law</td>\n",
       "      <td>Hello, thank you for visiting our page.   We h...</td>\n",
       "      <td>False</td>\n",
       "      <td>1000</td>\n",
       "      <td>['AstraZeneca', 'Denmark', 'Suspends', 'Vaccin...</td>\n",
       "      <td>[]</td>\n",
       "      <td>NaN</td>\n",
       "      <td>\\r</td>\n",
       "      <td>NaN</td>\n",
       "    </tr>\n",
       "    <tr>\n",
       "      <th>133968</th>\n",
       "      <td>covidiots</td>\n",
       "      <td>59</td>\n",
       "      <td>Sun Mar 21 04:57:03 +0000 2021</td>\n",
       "      <td>1373498871322705924</td>\n",
       "      <td>\" #COVIDIOTS \" are real people that see the tr...</td>\n",
       "      <td>True</td>\n",
       "      <td>NaN</td>\n",
       "      <td>1</td>\n",
       "      <td>2</td>\n",
       "      <td>en</td>\n",
       "      <td>ZpydyZ</td>\n",
       "      <td>SPYD33</td>\n",
       "      <td>Just a person that thinks too differently alon...</td>\n",
       "      <td>False</td>\n",
       "      <td>13</td>\n",
       "      <td>['COVIDIOTS']</td>\n",
       "      <td>[]</td>\n",
       "      <td>NaN</td>\n",
       "      <td>\\r</td>\n",
       "      <td>NaN</td>\n",
       "    </tr>\n",
       "    <tr>\n",
       "      <th>...</th>\n",
       "      <td>...</td>\n",
       "      <td>...</td>\n",
       "      <td>...</td>\n",
       "      <td>...</td>\n",
       "      <td>...</td>\n",
       "      <td>...</td>\n",
       "      <td>...</td>\n",
       "      <td>...</td>\n",
       "      <td>...</td>\n",
       "      <td>...</td>\n",
       "      <td>...</td>\n",
       "      <td>...</td>\n",
       "      <td>...</td>\n",
       "      <td>...</td>\n",
       "      <td>...</td>\n",
       "      <td>...</td>\n",
       "      <td>...</td>\n",
       "      <td>...</td>\n",
       "      <td>...</td>\n",
       "      <td>...</td>\n",
       "    </tr>\n",
       "    <tr>\n",
       "      <th>33985</th>\n",
       "      <td>covid19 biontech</td>\n",
       "      <td>25</td>\n",
       "      <td>Fri Mar 19 06:45:54 +0000 2021</td>\n",
       "      <td>1372801487638724612</td>\n",
       "      <td>🩺 Thank you #HongKong Government for facilitat...</td>\n",
       "      <td>True</td>\n",
       "      <td>NaN</td>\n",
       "      <td>9</td>\n",
       "      <td>32</td>\n",
       "      <td>en</td>\n",
       "      <td>EUinHKandMO</td>\n",
       "      <td>European Union Office to Hong Kong and Macao</td>\n",
       "      <td>🇪🇺🇭🇰🇲🇴 Official Twitter of the EU Office to Ho...</td>\n",
       "      <td>False</td>\n",
       "      <td>2178</td>\n",
       "      <td>['HongKong', 'BioNTech', 'Vaccines']</td>\n",
       "      <td>[]</td>\n",
       "      <td>NaN</td>\n",
       "      <td>\\r</td>\n",
       "      <td>NaN</td>\n",
       "    </tr>\n",
       "    <tr>\n",
       "      <th>19274</th>\n",
       "      <td>covid19 biontech</td>\n",
       "      <td>26</td>\n",
       "      <td>Fri Mar 19 06:45:54 +0000 2021</td>\n",
       "      <td>1372801487638724612</td>\n",
       "      <td>🩺 Thank you #HongKong Government for facilitat...</td>\n",
       "      <td>True</td>\n",
       "      <td>NaN</td>\n",
       "      <td>9</td>\n",
       "      <td>31</td>\n",
       "      <td>en</td>\n",
       "      <td>EUinHKandMO</td>\n",
       "      <td>European Union Office to Hong Kong and Macao</td>\n",
       "      <td>🇪🇺🇭🇰🇲🇴 Official Twitter of the EU Office to Ho...</td>\n",
       "      <td>False</td>\n",
       "      <td>2179</td>\n",
       "      <td>['HongKong', 'BioNTech', 'Vaccines']</td>\n",
       "      <td>[]</td>\n",
       "      <td>NaN</td>\n",
       "      <td>\\r</td>\n",
       "      <td>NaN</td>\n",
       "    </tr>\n",
       "    <tr>\n",
       "      <th>19561</th>\n",
       "      <td>covid19 biontech</td>\n",
       "      <td>26</td>\n",
       "      <td>Fri Mar 19 06:45:54 +0000 2021</td>\n",
       "      <td>1372801487638724612</td>\n",
       "      <td>🩺 Thank you #HongKong Government for facilitat...</td>\n",
       "      <td>True</td>\n",
       "      <td>NaN</td>\n",
       "      <td>9</td>\n",
       "      <td>29</td>\n",
       "      <td>en</td>\n",
       "      <td>EUinHKandMO</td>\n",
       "      <td>European Union Office to Hong Kong and Macao</td>\n",
       "      <td>🇪🇺🇭🇰🇲🇴 Official Twitter of the EU Office to Ho...</td>\n",
       "      <td>False</td>\n",
       "      <td>2177</td>\n",
       "      <td>['HongKong', 'BioNTech', 'Vaccines']</td>\n",
       "      <td>[]</td>\n",
       "      <td>NaN</td>\n",
       "      <td>\\r</td>\n",
       "      <td>NaN</td>\n",
       "    </tr>\n",
       "    <tr>\n",
       "      <th>17565</th>\n",
       "      <td>#covid19 #biontech</td>\n",
       "      <td>24</td>\n",
       "      <td>Fri Mar 19 06:45:54 +0000 2021</td>\n",
       "      <td>1372801487638724612</td>\n",
       "      <td>🩺 Thank you #HongKong Government for facilitat...</td>\n",
       "      <td>True</td>\n",
       "      <td>NaN</td>\n",
       "      <td>9</td>\n",
       "      <td>30</td>\n",
       "      <td>en</td>\n",
       "      <td>EUinHKandMO</td>\n",
       "      <td>European Union Office to Hong Kong and Macao</td>\n",
       "      <td>🇪🇺🇭🇰🇲🇴 Official Twitter of the EU Office to Ho...</td>\n",
       "      <td>False</td>\n",
       "      <td>2177</td>\n",
       "      <td>['HongKong', 'BioNTech', 'Vaccines']</td>\n",
       "      <td>[]</td>\n",
       "      <td>NaN</td>\n",
       "      <td>NaN</td>\n",
       "      <td>NaN</td>\n",
       "    </tr>\n",
       "    <tr>\n",
       "      <th>6982</th>\n",
       "      <td>#covidvaccine</td>\n",
       "      <td>6982</td>\n",
       "      <td>Tue Mar 16 14:59:18 +0000 2021</td>\n",
       "      <td>1371838491286511636</td>\n",
       "      <td>🪶Chokma’shki #Chickasaw Nation🪶\\nFor making yo...</td>\n",
       "      <td>True</td>\n",
       "      <td>NaN</td>\n",
       "      <td>2</td>\n",
       "      <td>4</td>\n",
       "      <td>en</td>\n",
       "      <td>jenmarie410</td>\n",
       "      <td>We Demand Justice ⚖️</td>\n",
       "      <td>Chronically Unrested #CFS #Resist✊#MaskUp #Fuc...</td>\n",
       "      <td>False</td>\n",
       "      <td>11285</td>\n",
       "      <td>['Chickasaw', 'ChickasawNation']</td>\n",
       "      <td>[]</td>\n",
       "      <td>NaN</td>\n",
       "      <td>\\r</td>\n",
       "      <td>NaN</td>\n",
       "    </tr>\n",
       "  </tbody>\n",
       "</table>\n",
       "<p>1244091 rows × 20 columns</p>\n",
       "</div>"
      ],
      "text/plain": [
       "           scraped_hashtag  scraped_order                      created_at  \\\n",
       "148866                mrna             46  Sun Mar 21 06:52:30 +0000 2021   \n",
       "70037                 mrna             49  Sun Mar 21 06:52:30 +0000 2021   \n",
       "151123                mrna             46  Thu Mar 18 22:58:46 +0000 2021   \n",
       "91946   astrazenecavaccine             31  Thu Mar 11 11:52:21 +0000 2021   \n",
       "133968           covidiots             59  Sun Mar 21 04:57:03 +0000 2021   \n",
       "...                    ...            ...                             ...   \n",
       "33985     covid19 biontech             25  Fri Mar 19 06:45:54 +0000 2021   \n",
       "19274     covid19 biontech             26  Fri Mar 19 06:45:54 +0000 2021   \n",
       "19561     covid19 biontech             26  Fri Mar 19 06:45:54 +0000 2021   \n",
       "17565   #covid19 #biontech             24  Fri Mar 19 06:45:54 +0000 2021   \n",
       "6982         #covidvaccine           6982  Tue Mar 16 14:59:18 +0000 2021   \n",
       "\n",
       "                     id_str  \\\n",
       "148866  1373527921843789825   \n",
       "70037   1373527921843789825   \n",
       "151123  1372683927509417984   \n",
       "91946   1369979505545154568   \n",
       "133968  1373498871322705924   \n",
       "...                     ...   \n",
       "33985   1372801487638724612   \n",
       "19274   1372801487638724612   \n",
       "19561   1372801487638724612   \n",
       "17565   1372801487638724612   \n",
       "6982    1371838491286511636   \n",
       "\n",
       "                                                     text  truncated  \\\n",
       "148866  !! BOMBSHEL !! MAJOR ALERT !!\\n\\n#Moderna Chie...       True   \n",
       "70037   !! BOMBSHEL !! MAJOR ALERT !!\\n\\n#Moderna Chie...       True   \n",
       "151123  !!! —&gt; We Fact-Checked This Dramatic mRNA V...      False   \n",
       "91946   \"  #AstraZeneca Slides As #Denmark #Suspends #...      False   \n",
       "133968  \" #COVIDIOTS \" are real people that see the tr...       True   \n",
       "...                                                   ...        ...   \n",
       "33985   🩺 Thank you #HongKong Government for facilitat...       True   \n",
       "19274   🩺 Thank you #HongKong Government for facilitat...       True   \n",
       "19561   🩺 Thank you #HongKong Government for facilitat...       True   \n",
       "17565   🩺 Thank you #HongKong Government for facilitat...       True   \n",
       "6982    🪶Chokma’shki #Chickasaw Nation🪶\\nFor making yo...       True   \n",
       "\n",
       "       in_reply_to_screen_name  retweet_count  favorite_count lang  \\\n",
       "148866                     NaN              2               1   en   \n",
       "70037                      NaN              3               1   en   \n",
       "151123                     NaN              0               0   en   \n",
       "91946                      NaN              0               1   en   \n",
       "133968                     NaN              1               2   en   \n",
       "...                        ...            ...             ...  ...   \n",
       "33985                      NaN              9              32   en   \n",
       "19274                      NaN              9              31   en   \n",
       "19561                      NaN              9              29   en   \n",
       "17565                      NaN              9              30   en   \n",
       "6982                       NaN              2               4   en   \n",
       "\n",
       "          screen_name                                        user_name  \\\n",
       "148866        sheasie                            Xolotl Tlaloc (XTC) Ⓥ   \n",
       "70037         sheasie                            Xolotl Tlaloc (XTC) Ⓥ   \n",
       "151123     lisago_van                                lisa van nostrand   \n",
       "91946   Flemington455  Welfare of the People should be the Supreme Law   \n",
       "133968         ZpydyZ                                           SPYD33   \n",
       "...               ...                                              ...   \n",
       "33985     EUinHKandMO     European Union Office to Hong Kong and Macao   \n",
       "19274     EUinHKandMO     European Union Office to Hong Kong and Macao   \n",
       "19561     EUinHKandMO     European Union Office to Hong Kong and Macao   \n",
       "17565     EUinHKandMO     European Union Office to Hong Kong and Macao   \n",
       "6982      jenmarie410                             We Demand Justice ⚖️   \n",
       "\n",
       "                                         user_description  user_verified  \\\n",
       "148866  knowledge is power\\n\\nxolotltlaloc @ https://t...          False   \n",
       "70037   knowledge is power\\n\\nxolotltlaloc @ https://t...          False   \n",
       "151123  “This is no time for ease and comfort. It is t...          False   \n",
       "91946   Hello, thank you for visiting our page.   We h...          False   \n",
       "133968  Just a person that thinks too differently alon...          False   \n",
       "...                                                   ...            ...   \n",
       "33985   🇪🇺🇭🇰🇲🇴 Official Twitter of the EU Office to Ho...          False   \n",
       "19274   🇪🇺🇭🇰🇲🇴 Official Twitter of the EU Office to Ho...          False   \n",
       "19561   🇪🇺🇭🇰🇲🇴 Official Twitter of the EU Office to Ho...          False   \n",
       "17565   🇪🇺🇭🇰🇲🇴 Official Twitter of the EU Office to Ho...          False   \n",
       "6982    Chronically Unrested #CFS #Resist✊#MaskUp #Fuc...          False   \n",
       "\n",
       "        user_followers_count  \\\n",
       "148866                   383   \n",
       "70037                    387   \n",
       "151123                   221   \n",
       "91946                   1000   \n",
       "133968                    13   \n",
       "...                      ...   \n",
       "33985                   2178   \n",
       "19274                   2179   \n",
       "19561                   2177   \n",
       "17565                   2177   \n",
       "6982                   11285   \n",
       "\n",
       "                                                 hashtags symbols og_tweet_by  \\\n",
       "148866                                        ['Moderna']      []         NaN   \n",
       "70037                                         ['Moderna']      []         NaN   \n",
       "151123                                                 []      []         NaN   \n",
       "91946   ['AstraZeneca', 'Denmark', 'Suspends', 'Vaccin...      []         NaN   \n",
       "133968                                      ['COVIDIOTS']      []         NaN   \n",
       "...                                                   ...     ...         ...   \n",
       "33985                ['HongKong', 'BioNTech', 'Vaccines']      []         NaN   \n",
       "19274                ['HongKong', 'BioNTech', 'Vaccines']      []         NaN   \n",
       "19561                ['HongKong', 'BioNTech', 'Vaccines']      []         NaN   \n",
       "17565                ['HongKong', 'BioNTech', 'Vaccines']      []         NaN   \n",
       "6982                     ['Chickasaw', 'ChickasawNation']      []         NaN   \n",
       "\n",
       "       og_tweet_truncated\\r og_tweet_truncated  \n",
       "148866                  NaN                NaN  \n",
       "70037                    \\r                NaN  \n",
       "151123                   \\r                NaN  \n",
       "91946                    \\r                NaN  \n",
       "133968                   \\r                NaN  \n",
       "...                     ...                ...  \n",
       "33985                    \\r                NaN  \n",
       "19274                    \\r                NaN  \n",
       "19561                    \\r                NaN  \n",
       "17565                   NaN                NaN  \n",
       "6982                     \\r                NaN  \n",
       "\n",
       "[1244091 rows x 20 columns]"
      ]
     },
     "execution_count": 5,
     "metadata": {},
     "output_type": "execute_result"
    }
   ],
   "source": [
    "data.sort_values('text')"
   ]
  },
  {
   "cell_type": "code",
   "execution_count": 6,
   "metadata": {},
   "outputs": [
    {
     "data": {
      "text/html": [
       "<div>\n",
       "<style scoped>\n",
       "    .dataframe tbody tr th:only-of-type {\n",
       "        vertical-align: middle;\n",
       "    }\n",
       "\n",
       "    .dataframe tbody tr th {\n",
       "        vertical-align: top;\n",
       "    }\n",
       "\n",
       "    .dataframe thead th {\n",
       "        text-align: right;\n",
       "    }\n",
       "</style>\n",
       "<table border=\"1\" class=\"dataframe\">\n",
       "  <thead>\n",
       "    <tr style=\"text-align: right;\">\n",
       "      <th></th>\n",
       "      <th>text</th>\n",
       "    </tr>\n",
       "    <tr>\n",
       "      <th>scraped_hashtag</th>\n",
       "      <th></th>\n",
       "    </tr>\n",
       "  </thead>\n",
       "  <tbody>\n",
       "    <tr>\n",
       "      <th>vaccinessavelives</th>\n",
       "      <td>41594</td>\n",
       "    </tr>\n",
       "    <tr>\n",
       "      <th>coronavirus astrazeneca</th>\n",
       "      <td>22700</td>\n",
       "    </tr>\n",
       "    <tr>\n",
       "      <th>gavi</th>\n",
       "      <td>22700</td>\n",
       "    </tr>\n",
       "    <tr>\n",
       "      <th>covidvaccine</th>\n",
       "      <td>22700</td>\n",
       "    </tr>\n",
       "    <tr>\n",
       "      <th>covid_19 astrazeneca</th>\n",
       "      <td>22700</td>\n",
       "    </tr>\n",
       "    <tr>\n",
       "      <th>...</th>\n",
       "      <td>...</td>\n",
       "    </tr>\n",
       "    <tr>\n",
       "      <th>#iwillgetvaccinated</th>\n",
       "      <td>16</td>\n",
       "    </tr>\n",
       "    <tr>\n",
       "      <th>#corona #biontech</th>\n",
       "      <td>16</td>\n",
       "    </tr>\n",
       "    <tr>\n",
       "      <th>#modernacovidvaccine</th>\n",
       "      <td>5</td>\n",
       "    </tr>\n",
       "    <tr>\n",
       "      <th>#biontechvaccine</th>\n",
       "      <td>4</td>\n",
       "    </tr>\n",
       "    <tr>\n",
       "      <th>#astrazenecacovidvaccine</th>\n",
       "      <td>4</td>\n",
       "    </tr>\n",
       "  </tbody>\n",
       "</table>\n",
       "<p>147 rows × 1 columns</p>\n",
       "</div>"
      ],
      "text/plain": [
       "                           text\n",
       "scraped_hashtag                \n",
       "vaccinessavelives         41594\n",
       "coronavirus astrazeneca   22700\n",
       "gavi                      22700\n",
       "covidvaccine              22700\n",
       "covid_19 astrazeneca      22700\n",
       "...                         ...\n",
       "#iwillgetvaccinated          16\n",
       "#corona #biontech            16\n",
       "#modernacovidvaccine          5\n",
       "#biontechvaccine              4\n",
       "#astrazenecacovidvaccine      4\n",
       "\n",
       "[147 rows x 1 columns]"
      ]
     },
     "execution_count": 6,
     "metadata": {},
     "output_type": "execute_result"
    }
   ],
   "source": [
    "data[['scraped_hashtag','text']].groupby('scraped_hashtag').count().sort_values('text', ascending = False)"
   ]
  },
  {
   "cell_type": "code",
   "execution_count": 7,
   "metadata": {},
   "outputs": [
    {
     "data": {
      "text/html": [
       "<div>\n",
       "<style scoped>\n",
       "    .dataframe tbody tr th:only-of-type {\n",
       "        vertical-align: middle;\n",
       "    }\n",
       "\n",
       "    .dataframe tbody tr th {\n",
       "        vertical-align: top;\n",
       "    }\n",
       "\n",
       "    .dataframe thead th {\n",
       "        text-align: right;\n",
       "    }\n",
       "</style>\n",
       "<table border=\"1\" class=\"dataframe\">\n",
       "  <thead>\n",
       "    <tr style=\"text-align: right;\">\n",
       "      <th></th>\n",
       "      <th>retweet_count</th>\n",
       "    </tr>\n",
       "    <tr>\n",
       "      <th>scraped_hashtag</th>\n",
       "      <th></th>\n",
       "    </tr>\n",
       "  </thead>\n",
       "  <tbody>\n",
       "    <tr>\n",
       "      <th>gavi</th>\n",
       "      <td>1577.018062</td>\n",
       "    </tr>\n",
       "    <tr>\n",
       "      <th>endthelockdown</th>\n",
       "      <td>1351.108117</td>\n",
       "    </tr>\n",
       "    <tr>\n",
       "      <th>covax</th>\n",
       "      <td>1334.543997</td>\n",
       "    </tr>\n",
       "    <tr>\n",
       "      <th>covid19 biontech</th>\n",
       "      <td>1079.868953</td>\n",
       "    </tr>\n",
       "    <tr>\n",
       "      <th>vaccine</th>\n",
       "      <td>915.345025</td>\n",
       "    </tr>\n",
       "    <tr>\n",
       "      <th>...</th>\n",
       "      <td>...</td>\n",
       "    </tr>\n",
       "    <tr>\n",
       "      <th>#iwillgetvaccinated</th>\n",
       "      <td>0.000000</td>\n",
       "    </tr>\n",
       "    <tr>\n",
       "      <th>astrazenecacovidvaccine</th>\n",
       "      <td>0.000000</td>\n",
       "    </tr>\n",
       "    <tr>\n",
       "      <th>biontechvaccine</th>\n",
       "      <td>0.000000</td>\n",
       "    </tr>\n",
       "    <tr>\n",
       "      <th>iwillgetvaccinated</th>\n",
       "      <td>0.000000</td>\n",
       "    </tr>\n",
       "    <tr>\n",
       "      <th>#astrazenecacovidvaccine</th>\n",
       "      <td>0.000000</td>\n",
       "    </tr>\n",
       "  </tbody>\n",
       "</table>\n",
       "<p>147 rows × 1 columns</p>\n",
       "</div>"
      ],
      "text/plain": [
       "                          retweet_count\n",
       "scraped_hashtag                        \n",
       "gavi                        1577.018062\n",
       "endthelockdown              1351.108117\n",
       "covax                       1334.543997\n",
       "covid19 biontech            1079.868953\n",
       "vaccine                      915.345025\n",
       "...                                 ...\n",
       "#iwillgetvaccinated            0.000000\n",
       "astrazenecacovidvaccine        0.000000\n",
       "biontechvaccine                0.000000\n",
       "iwillgetvaccinated             0.000000\n",
       "#astrazenecacovidvaccine       0.000000\n",
       "\n",
       "[147 rows x 1 columns]"
      ]
     },
     "execution_count": 7,
     "metadata": {},
     "output_type": "execute_result"
    }
   ],
   "source": [
    "data[['scraped_hashtag','retweet_count']].groupby('scraped_hashtag').mean().sort_values('retweet_count', ascending = False)"
   ]
  },
  {
   "cell_type": "markdown",
   "metadata": {},
   "source": [
    "## Hashtags and Languages"
   ]
  },
  {
   "cell_type": "code",
   "execution_count": 8,
   "metadata": {},
   "outputs": [
    {
     "data": {
      "text/plain": [
       "count     1244091\n",
       "unique          1\n",
       "top            en\n",
       "freq      1244091\n",
       "Name: lang, dtype: object"
      ]
     },
     "execution_count": 8,
     "metadata": {},
     "output_type": "execute_result"
    }
   ],
   "source": [
    "data.lang.describe()"
   ]
  },
  {
   "cell_type": "code",
   "execution_count": 9,
   "metadata": {},
   "outputs": [
    {
     "data": {
      "text/plain": [
       "0"
      ]
     },
     "execution_count": 9,
     "metadata": {},
     "output_type": "execute_result"
    }
   ],
   "source": [
    "len(data.loc[data.lang != 'en'])"
   ]
  },
  {
   "cell_type": "markdown",
   "metadata": {},
   "source": [
    "Here we can see that all of our scraped tweets are based on English."
   ]
  },
  {
   "cell_type": "code",
   "execution_count": 10,
   "metadata": {},
   "outputs": [
    {
     "data": {
      "text/plain": [
       "count     1244091\n",
       "unique      22869\n",
       "top            []\n",
       "freq       766029\n",
       "Name: hashtags, dtype: object"
      ]
     },
     "execution_count": 10,
     "metadata": {},
     "output_type": "execute_result"
    }
   ],
   "source": [
    "data.hashtags.describe()"
   ]
  },
  {
   "cell_type": "markdown",
   "metadata": {},
   "source": [
    "**There are 766029 tweets without hashtags.**"
   ]
  },
  {
   "cell_type": "code",
   "execution_count": 11,
   "metadata": {},
   "outputs": [],
   "source": [
    "data.hashtags = data.hashtags.str.replace('[', '').str.replace(']', '').str.replace(\"'\", \"\").str.replace(\" \", \"\").str.split(',')"
   ]
  },
  {
   "cell_type": "code",
   "execution_count": 12,
   "metadata": {},
   "outputs": [
    {
     "data": {
      "text/plain": [
       "0                                         [COVID19Vaccine]\n",
       "1                     [Health, COVID19, Vaccine, agedcare]\n",
       "2                                       [Florida, COVID19]\n",
       "3                                                       []\n",
       "4                                          [kissmeimirish]\n",
       "                               ...                        \n",
       "18600                                          [MustWatch]\n",
       "18601                                                   []\n",
       "18602                                      [Moderna, mRNA]\n",
       "18603                                          [Canadians]\n",
       "18604    [PoliceBrutality, Scamdemic, Plandemic, lockdo...\n",
       "Name: hashtags, Length: 1244091, dtype: object"
      ]
     },
     "execution_count": 12,
     "metadata": {},
     "output_type": "execute_result"
    }
   ],
   "source": [
    "data.hashtags"
   ]
  },
  {
   "cell_type": "code",
   "execution_count": 13,
   "metadata": {},
   "outputs": [],
   "source": [
    "hashtages = [hashtages for sublist in list(data.hashtags) for hashtages in sublist]"
   ]
  },
  {
   "cell_type": "code",
   "execution_count": 14,
   "metadata": {},
   "outputs": [
    {
     "data": {
      "text/plain": [
       "['COVID19Vaccine',\n",
       " 'Health',\n",
       " 'COVID19',\n",
       " 'Vaccine',\n",
       " 'agedcare',\n",
       " 'Florida',\n",
       " 'COVID19',\n",
       " '',\n",
       " 'kissmeimirish',\n",
       " 'COVID19Vaccine',\n",
       " 'COVID',\n",
       " 'Vaccine',\n",
       " '',\n",
       " 'vaccine',\n",
       " 'Vaccine',\n",
       " 'COVID19',\n",
       " 'vaccine',\n",
       " 'Egypt',\n",
       " 'Sinopharm',\n",
       " 'COVID19']"
      ]
     },
     "execution_count": 14,
     "metadata": {},
     "output_type": "execute_result"
    }
   ],
   "source": [
    "hashtages[:20]"
   ]
  },
  {
   "cell_type": "code",
   "execution_count": 15,
   "metadata": {},
   "outputs": [],
   "source": [
    "from collections import Counter\n",
    "hashtag_num = Counter(hashtages)"
   ]
  },
  {
   "cell_type": "code",
   "execution_count": 16,
   "metadata": {},
   "outputs": [],
   "source": [
    "hashtag_num = pd.DataFrame.from_dict(hashtag_num, orient='index').reset_index()"
   ]
  },
  {
   "cell_type": "code",
   "execution_count": 17,
   "metadata": {},
   "outputs": [],
   "source": [
    "hashtag_num.columns = ['hashtags', 'count']"
   ]
  },
  {
   "cell_type": "code",
   "execution_count": 18,
   "metadata": {},
   "outputs": [
    {
     "data": {
      "text/html": [
       "<div>\n",
       "<style scoped>\n",
       "    .dataframe tbody tr th:only-of-type {\n",
       "        vertical-align: middle;\n",
       "    }\n",
       "\n",
       "    .dataframe tbody tr th {\n",
       "        vertical-align: top;\n",
       "    }\n",
       "\n",
       "    .dataframe thead th {\n",
       "        text-align: right;\n",
       "    }\n",
       "</style>\n",
       "<table border=\"1\" class=\"dataframe\">\n",
       "  <thead>\n",
       "    <tr style=\"text-align: right;\">\n",
       "      <th></th>\n",
       "      <th>hashtags</th>\n",
       "      <th>count</th>\n",
       "    </tr>\n",
       "  </thead>\n",
       "  <tbody>\n",
       "    <tr>\n",
       "      <th>6</th>\n",
       "      <td></td>\n",
       "      <td>766029</td>\n",
       "    </tr>\n",
       "    <tr>\n",
       "      <th>2</th>\n",
       "      <td>COVID19</td>\n",
       "      <td>99345</td>\n",
       "    </tr>\n",
       "    <tr>\n",
       "      <th>41</th>\n",
       "      <td>AstraZeneca</td>\n",
       "      <td>35886</td>\n",
       "    </tr>\n",
       "    <tr>\n",
       "      <th>37</th>\n",
       "      <td>CovidVaccine</td>\n",
       "      <td>33535</td>\n",
       "    </tr>\n",
       "    <tr>\n",
       "      <th>350</th>\n",
       "      <td>SputnikV</td>\n",
       "      <td>25405</td>\n",
       "    </tr>\n",
       "    <tr>\n",
       "      <th>9</th>\n",
       "      <td>vaccine</td>\n",
       "      <td>20558</td>\n",
       "    </tr>\n",
       "    <tr>\n",
       "      <th>0</th>\n",
       "      <td>COVID19Vaccine</td>\n",
       "      <td>19378</td>\n",
       "    </tr>\n",
       "    <tr>\n",
       "      <th>559</th>\n",
       "      <td>GetVaccinated</td>\n",
       "      <td>17866</td>\n",
       "    </tr>\n",
       "    <tr>\n",
       "      <th>325</th>\n",
       "      <td>CoronaVaccine</td>\n",
       "      <td>14743</td>\n",
       "    </tr>\n",
       "    <tr>\n",
       "      <th>676</th>\n",
       "      <td>astrazenecavaccine</td>\n",
       "      <td>14685</td>\n",
       "    </tr>\n",
       "  </tbody>\n",
       "</table>\n",
       "</div>"
      ],
      "text/plain": [
       "               hashtags   count\n",
       "6                        766029\n",
       "2               COVID19   99345\n",
       "41          AstraZeneca   35886\n",
       "37         CovidVaccine   33535\n",
       "350            SputnikV   25405\n",
       "9               vaccine   20558\n",
       "0        COVID19Vaccine   19378\n",
       "559       GetVaccinated   17866\n",
       "325       CoronaVaccine   14743\n",
       "676  astrazenecavaccine   14685"
      ]
     },
     "execution_count": 18,
     "metadata": {},
     "output_type": "execute_result"
    }
   ],
   "source": [
    "hashtag_num.sort_values('count', ascending = False).head(10)"
   ]
  },
  {
   "cell_type": "markdown",
   "metadata": {},
   "source": [
    "**Here we have the 10 most frequent hashtages.**"
   ]
  },
  {
   "cell_type": "markdown",
   "metadata": {},
   "source": [
    "## Text and User Description\n",
    "\n",
    "For the purpose of analysis, we are considering user descriptions as a part of a worldview which helps encapsulate opinions towards vaccines, so we have combined user descriptions with tweet content. "
   ]
  },
  {
   "cell_type": "code",
   "execution_count": 19,
   "metadata": {},
   "outputs": [
    {
     "data": {
      "text/html": [
       "<div>\n",
       "<style scoped>\n",
       "    .dataframe tbody tr th:only-of-type {\n",
       "        vertical-align: middle;\n",
       "    }\n",
       "\n",
       "    .dataframe tbody tr th {\n",
       "        vertical-align: top;\n",
       "    }\n",
       "\n",
       "    .dataframe thead th {\n",
       "        text-align: right;\n",
       "    }\n",
       "</style>\n",
       "<table border=\"1\" class=\"dataframe\">\n",
       "  <thead>\n",
       "    <tr style=\"text-align: right;\">\n",
       "      <th></th>\n",
       "      <th>fulltext</th>\n",
       "    </tr>\n",
       "  </thead>\n",
       "  <tbody>\n",
       "    <tr>\n",
       "      <th>0</th>\n",
       "      <td>BIG NEWS from @GovSisolak: #COVID19Vaccine eli...</td>\n",
       "    </tr>\n",
       "    <tr>\n",
       "      <th>2</th>\n",
       "      <td>RT @GeoRebekah: Attention #Florida!\\n\\nIf you,...</td>\n",
       "    </tr>\n",
       "    <tr>\n",
       "      <th>3</th>\n",
       "      <td>RT @JulianHillMP: Scotty promised Australians ...</td>\n",
       "    </tr>\n",
       "    <tr>\n",
       "      <th>4</th>\n",
       "      <td>Don’t #kissmeimirish ! Stand back at the end o...</td>\n",
       "    </tr>\n",
       "    <tr>\n",
       "      <th>5</th>\n",
       "      <td>BIG NEWS from @GovSisolak: #COVID19Vaccine eli...</td>\n",
       "    </tr>\n",
       "    <tr>\n",
       "      <th>...</th>\n",
       "      <td>...</td>\n",
       "    </tr>\n",
       "    <tr>\n",
       "      <th>18510</th>\n",
       "      <td>@pronoundecider @LiuYongfu6 @oaklandpolitics @...</td>\n",
       "    </tr>\n",
       "    <tr>\n",
       "      <th>18511</th>\n",
       "      <td>Love the #KungFlu https://t.co/nvWBxk23N4 Gang...</td>\n",
       "    </tr>\n",
       "    <tr>\n",
       "      <th>18528</th>\n",
       "      <td>RT @ExitEUbefree: @Thomas_Binder @LynnFynn3 @y...</td>\n",
       "    </tr>\n",
       "    <tr>\n",
       "      <th>18554</th>\n",
       "      <td>RT @TorontoWriter: Errors in health care: a le...</td>\n",
       "    </tr>\n",
       "    <tr>\n",
       "      <th>18577</th>\n",
       "      <td>Top 10 ways to OUTSMART the #plandemic boondog...</td>\n",
       "    </tr>\n",
       "  </tbody>\n",
       "</table>\n",
       "<p>336783 rows × 1 columns</p>\n",
       "</div>"
      ],
      "text/plain": [
       "                                                fulltext\n",
       "0      BIG NEWS from @GovSisolak: #COVID19Vaccine eli...\n",
       "2      RT @GeoRebekah: Attention #Florida!\\n\\nIf you,...\n",
       "3      RT @JulianHillMP: Scotty promised Australians ...\n",
       "4      Don’t #kissmeimirish ! Stand back at the end o...\n",
       "5      BIG NEWS from @GovSisolak: #COVID19Vaccine eli...\n",
       "...                                                  ...\n",
       "18510  @pronoundecider @LiuYongfu6 @oaklandpolitics @...\n",
       "18511  Love the #KungFlu https://t.co/nvWBxk23N4 Gang...\n",
       "18528  RT @ExitEUbefree: @Thomas_Binder @LynnFynn3 @y...\n",
       "18554  RT @TorontoWriter: Errors in health care: a le...\n",
       "18577  Top 10 ways to OUTSMART the #plandemic boondog...\n",
       "\n",
       "[336783 rows x 1 columns]"
      ]
     },
     "execution_count": 19,
     "metadata": {},
     "output_type": "execute_result"
    }
   ],
   "source": [
    "tud = data[[\"text\", \"user_description\"]].drop_duplicates()\n",
    "tud['fulltext'] = tud.text + \" \" + tud.user_description.fillna(\"\")\n",
    "tud = tud.dropna().copy()\n",
    "tud = tud.drop(columns=[\"text\", \"user_description\"])\n",
    "tud"
   ]
  },
  {
   "cell_type": "code",
   "execution_count": 29,
   "metadata": {},
   "outputs": [],
   "source": [
    "from sklearn.feature_extraction.text import CountVectorizer\n",
    "\n",
    "vec = CountVectorizer().fit(tud.fulltext)\n",
    "bag_of_words = vec.transform(tud.fulltext)\n",
    "sum_words = bag_of_words.sum(axis=0) \n",
    "words_freq = [(word, sum_words[0, idx]) for word, idx in     vec.vocabulary_.items()]\n",
    "words_freq =sorted(words_freq, key = lambda x: x[1], reverse=True)\n",
    "    \n",
    "# vec = vectorizer.fit_transform(tud.fulltext)\n",
    "# feats = vectorizer.get_feature_names()\n",
    "# print(len(feats))"
   ]
  },
  {
   "cell_type": "code",
   "execution_count": 70,
   "metadata": {},
   "outputs": [
    {
     "data": {
      "text/html": [
       "<div>\n",
       "<style scoped>\n",
       "    .dataframe tbody tr th:only-of-type {\n",
       "        vertical-align: middle;\n",
       "    }\n",
       "\n",
       "    .dataframe tbody tr th {\n",
       "        vertical-align: top;\n",
       "    }\n",
       "\n",
       "    .dataframe thead th {\n",
       "        text-align: right;\n",
       "    }\n",
       "</style>\n",
       "<table border=\"1\" class=\"dataframe\">\n",
       "  <thead>\n",
       "    <tr style=\"text-align: right;\">\n",
       "      <th></th>\n",
       "      <th>word</th>\n",
       "      <th>freq</th>\n",
       "      <th>log_freq</th>\n",
       "    </tr>\n",
       "  </thead>\n",
       "  <tbody>\n",
       "    <tr>\n",
       "      <th>0</th>\n",
       "      <td>the</td>\n",
       "      <td>363216</td>\n",
       "      <td>12.802753</td>\n",
       "    </tr>\n",
       "    <tr>\n",
       "      <th>1</th>\n",
       "      <td>rt</td>\n",
       "      <td>229471</td>\n",
       "      <td>12.343532</td>\n",
       "    </tr>\n",
       "    <tr>\n",
       "      <th>2</th>\n",
       "      <td>of</td>\n",
       "      <td>218389</td>\n",
       "      <td>12.294033</td>\n",
       "    </tr>\n",
       "    <tr>\n",
       "      <th>3</th>\n",
       "      <td>to</td>\n",
       "      <td>212838</td>\n",
       "      <td>12.268287</td>\n",
       "    </tr>\n",
       "    <tr>\n",
       "      <th>4</th>\n",
       "      <td>and</td>\n",
       "      <td>203025</td>\n",
       "      <td>12.221084</td>\n",
       "    </tr>\n",
       "    <tr>\n",
       "      <th>5</th>\n",
       "      <td>co</td>\n",
       "      <td>167271</td>\n",
       "      <td>12.027371</td>\n",
       "    </tr>\n",
       "    <tr>\n",
       "      <th>6</th>\n",
       "      <td>https</td>\n",
       "      <td>166675</td>\n",
       "      <td>12.023801</td>\n",
       "    </tr>\n",
       "    <tr>\n",
       "      <th>7</th>\n",
       "      <td>in</td>\n",
       "      <td>148589</td>\n",
       "      <td>11.908939</td>\n",
       "    </tr>\n",
       "    <tr>\n",
       "      <th>8</th>\n",
       "      <td>is</td>\n",
       "      <td>120225</td>\n",
       "      <td>11.697120</td>\n",
       "    </tr>\n",
       "    <tr>\n",
       "      <th>9</th>\n",
       "      <td>vaccine</td>\n",
       "      <td>102349</td>\n",
       "      <td>11.536144</td>\n",
       "    </tr>\n",
       "    <tr>\n",
       "      <th>10</th>\n",
       "      <td>for</td>\n",
       "      <td>101081</td>\n",
       "      <td>11.523677</td>\n",
       "    </tr>\n",
       "    <tr>\n",
       "      <th>11</th>\n",
       "      <td>are</td>\n",
       "      <td>76429</td>\n",
       "      <td>11.244117</td>\n",
       "    </tr>\n",
       "    <tr>\n",
       "      <th>12</th>\n",
       "      <td>my</td>\n",
       "      <td>68457</td>\n",
       "      <td>11.133961</td>\n",
       "    </tr>\n",
       "    <tr>\n",
       "      <th>13</th>\n",
       "      <td>on</td>\n",
       "      <td>68256</td>\n",
       "      <td>11.131021</td>\n",
       "    </tr>\n",
       "    <tr>\n",
       "      <th>14</th>\n",
       "      <td>it</td>\n",
       "      <td>66342</td>\n",
       "      <td>11.102578</td>\n",
       "    </tr>\n",
       "    <tr>\n",
       "      <th>15</th>\n",
       "      <td>you</td>\n",
       "      <td>66161</td>\n",
       "      <td>11.099846</td>\n",
       "    </tr>\n",
       "    <tr>\n",
       "      <th>16</th>\n",
       "      <td>covid</td>\n",
       "      <td>65974</td>\n",
       "      <td>11.097016</td>\n",
       "    </tr>\n",
       "    <tr>\n",
       "      <th>17</th>\n",
       "      <td>that</td>\n",
       "      <td>56772</td>\n",
       "      <td>10.946799</td>\n",
       "    </tr>\n",
       "    <tr>\n",
       "      <th>18</th>\n",
       "      <td>not</td>\n",
       "      <td>53054</td>\n",
       "      <td>10.879066</td>\n",
       "    </tr>\n",
       "    <tr>\n",
       "      <th>19</th>\n",
       "      <td>with</td>\n",
       "      <td>51269</td>\n",
       "      <td>10.844842</td>\n",
       "    </tr>\n",
       "    <tr>\n",
       "      <th>20</th>\n",
       "      <td>we</td>\n",
       "      <td>48999</td>\n",
       "      <td>10.799555</td>\n",
       "    </tr>\n",
       "    <tr>\n",
       "      <th>21</th>\n",
       "      <td>this</td>\n",
       "      <td>46977</td>\n",
       "      <td>10.757413</td>\n",
       "    </tr>\n",
       "    <tr>\n",
       "      <th>22</th>\n",
       "      <td>have</td>\n",
       "      <td>41180</td>\n",
       "      <td>10.625708</td>\n",
       "    </tr>\n",
       "    <tr>\n",
       "      <th>23</th>\n",
       "      <td>at</td>\n",
       "      <td>40927</td>\n",
       "      <td>10.619545</td>\n",
       "    </tr>\n",
       "    <tr>\n",
       "      <th>24</th>\n",
       "      <td>all</td>\n",
       "      <td>40819</td>\n",
       "      <td>10.616903</td>\n",
       "    </tr>\n",
       "  </tbody>\n",
       "</table>\n",
       "</div>"
      ],
      "text/plain": [
       "       word    freq   log_freq\n",
       "0       the  363216  12.802753\n",
       "1        rt  229471  12.343532\n",
       "2        of  218389  12.294033\n",
       "3        to  212838  12.268287\n",
       "4       and  203025  12.221084\n",
       "5        co  167271  12.027371\n",
       "6     https  166675  12.023801\n",
       "7        in  148589  11.908939\n",
       "8        is  120225  11.697120\n",
       "9   vaccine  102349  11.536144\n",
       "10      for  101081  11.523677\n",
       "11      are   76429  11.244117\n",
       "12       my   68457  11.133961\n",
       "13       on   68256  11.131021\n",
       "14       it   66342  11.102578\n",
       "15      you   66161  11.099846\n",
       "16    covid   65974  11.097016\n",
       "17     that   56772  10.946799\n",
       "18      not   53054  10.879066\n",
       "19     with   51269  10.844842\n",
       "20       we   48999  10.799555\n",
       "21     this   46977  10.757413\n",
       "22     have   41180  10.625708\n",
       "23       at   40927  10.619545\n",
       "24      all   40819  10.616903"
      ]
     },
     "execution_count": 70,
     "metadata": {},
     "output_type": "execute_result"
    }
   ],
   "source": [
    "import numpy as np \n",
    "\n",
    "wf_df = pd.DataFrame(words_freq[:100], columns=[\"word\", \"freq\"])\n",
    "wf_df[\"log_freq\"] = np.log(wf_df.freq)\n",
    "wf_df.head(25)"
   ]
  },
  {
   "cell_type": "code",
   "execution_count": 48,
   "metadata": {},
   "outputs": [
    {
     "data": {
      "image/png": "[encoded data removed]",
      "text/plain": [
       "<Figure size 432x288 with 1 Axes>"
      ]
     },
     "metadata": {
      "needs_background": "light"
     },
     "output_type": "display_data"
    }
   ],
   "source": [
    "hist = wf_df.freq.hist(bins=9)"
   ]
  },
  {
   "cell_type": "code",
   "execution_count": 49,
   "metadata": {},
   "outputs": [
    {
     "data": {
      "image/png": "[encoded data removed]",
      "text/plain": [
       "<Figure size 432x288 with 1 Axes>"
      ]
     },
     "metadata": {
      "needs_background": "light"
     },
     "output_type": "display_data"
    }
   ],
   "source": [
    "hist = wf_df.log_freq.hist(bins=9)"
   ]
  },
  {
   "cell_type": "code",
   "execution_count": 38,
   "metadata": {},
   "outputs": [
    {
     "data": {
      "text/plain": [
       "(336783, 427928)"
      ]
     },
     "execution_count": 38,
     "metadata": {},
     "output_type": "execute_result"
    }
   ],
   "source": [
    "bag_of_words.shape"
   ]
  },
  {
   "cell_type": "markdown",
   "metadata": {},
   "source": [
    "**There are 427,928 unique words in this corpus of tweets and twitter user bios.** \n",
    "\n",
    "In addition, they appear to roughly follow Zipf's law of frequent proportional representation with a log-like decreasing curve of the log-frequency of words.\n",
    "\n",
    "The most frequent words, as expected, are not particularly interesting, and mostly represent stop words, or at least the COVID Twitter equivalent. "
   ]
  },
  {
   "cell_type": "markdown",
   "metadata": {},
   "source": [
    "## User Follower Counts"
   ]
  },
  {
   "cell_type": "code",
   "execution_count": 51,
   "metadata": {},
   "outputs": [
    {
     "data": {
      "text/html": [
       "<div>\n",
       "<style scoped>\n",
       "    .dataframe tbody tr th:only-of-type {\n",
       "        vertical-align: middle;\n",
       "    }\n",
       "\n",
       "    .dataframe tbody tr th {\n",
       "        vertical-align: top;\n",
       "    }\n",
       "\n",
       "    .dataframe thead th {\n",
       "        text-align: right;\n",
       "    }\n",
       "</style>\n",
       "<table border=\"1\" class=\"dataframe\">\n",
       "  <thead>\n",
       "    <tr style=\"text-align: right;\">\n",
       "      <th></th>\n",
       "      <th>user_followers_count</th>\n",
       "    </tr>\n",
       "  </thead>\n",
       "  <tbody>\n",
       "    <tr>\n",
       "      <th>count</th>\n",
       "      <td>1.244091e+06</td>\n",
       "    </tr>\n",
       "    <tr>\n",
       "      <th>mean</th>\n",
       "      <td>2.875744e+04</td>\n",
       "    </tr>\n",
       "    <tr>\n",
       "      <th>std</th>\n",
       "      <td>5.136353e+05</td>\n",
       "    </tr>\n",
       "    <tr>\n",
       "      <th>min</th>\n",
       "      <td>0.000000e+00</td>\n",
       "    </tr>\n",
       "    <tr>\n",
       "      <th>25%</th>\n",
       "      <td>1.360000e+02</td>\n",
       "    </tr>\n",
       "    <tr>\n",
       "      <th>50%</th>\n",
       "      <td>5.300000e+02</td>\n",
       "    </tr>\n",
       "    <tr>\n",
       "      <th>75%</th>\n",
       "      <td>2.063000e+03</td>\n",
       "    </tr>\n",
       "    <tr>\n",
       "      <th>max</th>\n",
       "      <td>6.115498e+07</td>\n",
       "    </tr>\n",
       "  </tbody>\n",
       "</table>\n",
       "</div>"
      ],
      "text/plain": [
       "       user_followers_count\n",
       "count          1.244091e+06\n",
       "mean           2.875744e+04\n",
       "std            5.136353e+05\n",
       "min            0.000000e+00\n",
       "25%            1.360000e+02\n",
       "50%            5.300000e+02\n",
       "75%            2.063000e+03\n",
       "max            6.115498e+07"
      ]
     },
     "execution_count": 51,
     "metadata": {},
     "output_type": "execute_result"
    }
   ],
   "source": [
    " dfALL[[\"user_followers_count\"]].describe()"
   ]
  },
  {
   "cell_type": "code",
   "execution_count": 67,
   "metadata": {},
   "outputs": [
    {
     "data": {
      "image/png": "[encoded data removed]",
      "text/plain": [
       "<Figure size 432x288 with 1 Axes>"
      ]
     },
     "metadata": {
      "needs_background": "light"
     },
     "output_type": "display_data"
    }
   ],
   "source": [
    "hist = dfALL.user_followers_count.hist(bins=35)"
   ]
  },
  {
   "cell_type": "code",
   "execution_count": 65,
   "metadata": {},
   "outputs": [
    {
     "data": {
      "image/png": "[encoded data removed]",
      "text/plain": [
       "<Figure size 432x288 with 1 Axes>"
      ]
     },
     "metadata": {
      "needs_background": "light"
     },
     "output_type": "display_data"
    }
   ],
   "source": [
    "hist = np.log10(dfALL.user_followers_count + 1).hist(bins=35)"
   ]
  },
  {
   "cell_type": "code",
   "execution_count": 69,
   "metadata": {},
   "outputs": [
    {
     "data": {
      "image/png": "[encoded data removed]",
      "text/plain": [
       "<Figure size 432x288 with 1 Axes>"
      ]
     },
     "metadata": {
      "needs_background": "light"
     },
     "output_type": "display_data"
    }
   ],
   "source": [
    "hist = np.log10(dfALL.user_followers_count.drop_duplicates() + 1).hist(bins=35)"
   ]
  },
  {
   "cell_type": "markdown",
   "metadata": {},
   "source": [
    "The number of user followers is highly skewed upwards, with such range and variation that the standard deviation is higher than the mean. Indeed it's impossible to see the histogram distribution in raw values. By taking the natural log, we can see that user follower counts follow a standard Gaussian distribution. However, when we remove duplicates (looking at the distribution by unique user), there is an extremely large skew downwards. It seems that popular Twitter users are overly represented in our dataset. "
   ]
  }
 ],
 "metadata": {
  "kernelspec": {
   "display_name": "Python 3",
   "language": "python",
   "name": "python3"
  },
  "language_info": {
   "codemirror_mode": {
    "name": "ipython",
    "version": 3
   },
   "file_extension": ".py",
   "mimetype": "text/x-python",
   "name": "python",
   "nbconvert_exporter": "python",
   "pygments_lexer": "ipython3",
   "version": "3.7.6"
  }
 },
 "nbformat": 4,
 "nbformat_minor": 4
}
