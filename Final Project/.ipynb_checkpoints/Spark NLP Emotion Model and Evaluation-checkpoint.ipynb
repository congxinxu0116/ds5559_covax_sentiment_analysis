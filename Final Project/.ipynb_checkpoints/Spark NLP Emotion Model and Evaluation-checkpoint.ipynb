{
 "cells": [
  {
   "cell_type": "markdown",
   "metadata": {
    "id": "AgBzGAHQ9yGj"
   },
   "source": [
    "# DS 5559 Final Project - Spark NLP Emotion Prediction and Evaluation\n",
    "\n"
   ]
  },
  {
   "cell_type": "markdown",
   "metadata": {
    "id": "DCk5uzm899Yk"
   },
   "source": [
    "## Download Packages and Files"
   ]
  },
  {
   "cell_type": "code",
   "execution_count": 1,
   "metadata": {
    "colab": {
     "base_uri": "https://localhost:8080/"
    },
    "executionInfo": {
     "elapsed": 41319,
     "status": "ok",
     "timestamp": 1620005699407,
     "user": {
      "displayName": "Congxin Xu",
      "photoUrl": "",
      "userId": "11724053780990891140"
     },
     "user_tz": 240
    },
    "id": "fHLsHAv9bY_R",
    "outputId": "21de42c1-cd29-4389-94eb-618c0fb9575c"
   },
   "outputs": [
    {
     "name": "stdout",
     "output_type": "stream",
     "text": [
      "Collecting spark-nlp==3.0.1\n",
      "\u001b[?25l  Downloading https://files.pythonhosted.org/packages/e5/31/6e0f5cff049aa1f5b9bf06754001d9986211b45ca9165938adc8bed2fdf6/spark_nlp-3.0.1-py2.py3-none-any.whl (146kB)\n",
      "\u001b[K     |████████████████████████████████| 153kB 17.4MB/s \n",
      "\u001b[?25hCollecting pyspark==3.1.1\n",
      "\u001b[?25l  Downloading https://files.pythonhosted.org/packages/45/b0/9d6860891ab14a39d4bddf80ba26ce51c2f9dc4805e5c6978ac0472c120a/pyspark-3.1.1.tar.gz (212.3MB)\n",
      "\u001b[K     |████████████████████████████████| 212.3MB 67kB/s \n",
      "\u001b[?25hCollecting py4j==0.10.9\n",
      "\u001b[?25l  Downloading https://files.pythonhosted.org/packages/9e/b6/6a4fb90cd235dc8e265a6a2067f2a2c99f0d91787f06aca4bcf7c23f3f80/py4j-0.10.9-py2.py3-none-any.whl (198kB)\n",
      "\u001b[K     |████████████████████████████████| 204kB 51.6MB/s \n",
      "\u001b[?25hBuilding wheels for collected packages: pyspark\n",
      "  Building wheel for pyspark (setup.py) ... \u001b[?25l\u001b[?25hdone\n",
      "  Created wheel for pyspark: filename=pyspark-3.1.1-py2.py3-none-any.whl size=212767604 sha256=cbbf5cb4ac5455c3b040a2acba1cb7c3f1d50fba20f9eafc506a338644fd5f44\n",
      "  Stored in directory: /root/.cache/pip/wheels/0b/90/c0/01de724414ef122bd05f056541fb6a0ecf47c7ca655f8b3c0f\n",
      "Successfully built pyspark\n",
      "Installing collected packages: spark-nlp, py4j, pyspark\n",
      "Successfully installed py4j-0.10.9 pyspark-3.1.1 spark-nlp-3.0.1\n"
     ]
    }
   ],
   "source": [
    "# Download necessary packages\n",
    "! pip install spark-nlp==3.0.1 pyspark==3.1.1"
   ]
  },
  {
   "cell_type": "code",
   "execution_count": 2,
   "metadata": {
    "colab": {
     "base_uri": "https://localhost:8080/"
    },
    "executionInfo": {
     "elapsed": 42463,
     "status": "ok",
     "timestamp": 1620005700558,
     "user": {
      "displayName": "Congxin Xu",
      "photoUrl": "",
      "userId": "11724053780990891140"
     },
     "user_tz": 240
    },
    "id": "As-2LpB_-QnO",
    "outputId": "9909090b-f835-4b17-cb8b-671392b8485d"
   },
   "outputs": [
    {
     "name": "stdout",
     "output_type": "stream",
     "text": [
      "Downloading...\n",
      "From: https://drive.google.com/uc?id=1Z6jP9dvFUhb-UF9SHt_Q06LwgGV9dHBN\n",
      "To: /content/joined_preds_manual_tabdelim.txt\n",
      "\r",
      "  0% 0.00/183k [00:00<?, ?B/s]\r",
      "100% 183k/183k [00:00<00:00, 5.75MB/s]\n"
     ]
    }
   ],
   "source": [
    "# Download Manually Labeled Data - 'joined_preds_manual.csv'\n",
    "! gdown --id '1Z6jP9dvFUhb-UF9SHt_Q06LwgGV9dHBN'"
   ]
  },
  {
   "cell_type": "markdown",
   "metadata": {
    "id": "Evu925i9-6EW"
   },
   "source": [
    "## Import Modules"
   ]
  },
  {
   "cell_type": "code",
   "execution_count": 3,
   "metadata": {
    "executionInfo": {
     "elapsed": 42711,
     "status": "ok",
     "timestamp": 1620005700808,
     "user": {
      "displayName": "Congxin Xu",
      "photoUrl": "",
      "userId": "11724053780990891140"
     },
     "user_tz": 240
    },
    "id": "ZHhSiZbxbjTq"
   },
   "outputs": [],
   "source": [
    "import pandas as pd\n",
    "import numpy as np\n",
    "from pyspark.ml import Pipeline\n",
    "from pyspark.sql import SparkSession\n",
    "import pyspark.sql.functions as F\n",
    "from sparknlp.annotator import *\n",
    "from sparknlp.base import *\n",
    "import sparknlp\n",
    "from sparknlp.pretrained import PretrainedPipeline"
   ]
  },
  {
   "cell_type": "markdown",
   "metadata": {
    "id": "l156qfu1-8dg"
   },
   "source": [
    "## Data Cleaning and Transformation"
   ]
  },
  {
   "cell_type": "markdown",
   "metadata": {
    "id": "T2iBecCiHcao"
   },
   "source": [
    "### Read In Raw Tweets and Manual Labeled Data"
   ]
  },
  {
   "cell_type": "code",
   "execution_count": 4,
   "metadata": {
    "colab": {
     "base_uri": "https://localhost:8080/"
    },
    "executionInfo": {
     "elapsed": 73966,
     "status": "ok",
     "timestamp": 1620005732069,
     "user": {
      "displayName": "Congxin Xu",
      "photoUrl": "",
      "userId": "11724053780990891140"
     },
     "user_tz": 240
    },
    "id": "ux6rK4YPiP8v",
    "outputId": "4776f38f-52d4-464d-f915-e2d8cf8cab2f"
   },
   "outputs": [
    {
     "name": "stdout",
     "output_type": "stream",
     "text": [
      "400\n",
      "+-----+------------+-------------------+--------------+-----------+----------+-----------+---------------+----------------+--------------+---------------+--------------------+----------+----------+----------+-------------------+---------------------------+--------------+----------------------+-------------+--------------------+-----------+---------+-----------------------+-------------+--------------+----+-----------+--------------------+--------------------+-------------+--------------------+--------------------+-------+----------+-----------------+------------+---------+--------+---------+-------------+--------------+------------+-------------+----------+--------+--------+--------+-------------+\n",
      "|index|anger_manual|anticipation_manual|disgust_manual|fear_manual|joy_manual|love_manual|optimism_manual|pessimism_manual|sadness_manual|surprise_manual|                text|neg_manual|neu_manual|pos_manual|main_emotion_manual|main_emotion_reduced_manual|  label_manual|scraped_hashtag_manual|scraped_order|          created_at|     id_str|truncated|in_reply_to_screen_name|retweet_count|favorite_count|lang|screen_name|           user_name|    user_description|user_verified|user_followers_count|            hashtags|symbols|anger_pred|anticipation_pred|disgust_pred|fear_pred|joy_pred|love_pred|optimism_pred|pessimism_pred|sadness_pred|surprise_pred|trust_pred|neg_pred|neu_pred|pos_pred|compound_pred|\n",
      "+-----+------------+-------------------+--------------+-----------+----------+-----------+---------------+----------------+--------------+---------------+--------------------+----------+----------+----------+-------------------+---------------------------+--------------+----------------------+-------------+--------------------+-----------+---------+-----------------------+-------------+--------------+----+-----------+--------------------+--------------------+-------------+--------------------+--------------------+-------+----------+-----------------+------------+---------+--------+---------+-------------+--------------+------------+-------------+----------+--------+--------+--------+-------------+\n",
      "|   61|           1|                  0|             0|          0|         0|          0|              0|               1|             0|              0|This business abo...|         1|         0|         0|              anger|                    sadness|misinformation|  #covid-19 #astraz...|           37|Wed Mar 17 08:05:...| 1.3721E+18|     TRUE|                   null|            0|             0|  en|  Cru5ad3Rs|            Crusader|Join us in our ba...|        FALSE|                   0|                  []|     []|         1|                0|           1|        0|       0|        0|            0|             0|           0|            0|         0|       0|       1|       0|            0|\n",
      "|   63|           0|                  0|             0|          0|         0|          0|              0|               0|             0|              0|Coronavirus world...|         0|         1|         0|            neutral|                   surprise|          news|  #covid-19 #astraz...|           37|Wed Mar 17 08:03:...| 1.3721E+18|     TRUE|                   null|            2|             2|  en|IlkhaAgency|               ILKHA|Official Twitter ...|         TRUE|                4710|['CoronavirusPand...|     []|         0|                0|           0|        0|       0|        0|            0|             0|           0|            0|         0|       0|     0.8|     0.2|        0.128|\n",
      "|   64|           0|                  0|             0|          0|         0|          0|              0|               0|             0|              0|Part-2  *Step-by-...|         0|         1|         0|            neutral|                   surprise|          news|  #covid-19 #astraz...|           35|Wed Mar 17 07:52:...|1.37209E+18|     TRUE|                   null|            0|             0|  en|  reema5392|          Reema Awan|Entrepreneur, Dig...|        FALSE|                 197|     ['AstraZeneca']|     []|         0|                0|           0|        0|       0|        0|            0|             0|           0|            0|         0|       0|    0.82|    0.18|       0.5106|\n",
      "|   78|           0|                  0|             0|          0|         0|          0|              0|               0|             0|              0|The European Medi...|         0|         1|         0|            neutral|                   surprise|          news|  #covid-19 #astraz...|           37|Wed Mar 17 07:02:...|1.37208E+18|     TRUE|                   null|            3|            12|  en| IndiaToday|          IndiaToday|Brings you news b...|         TRUE|             5557862|                  []|     []|         0|                0|           0|        1|       0|        0|            0|             0|           0|            0|         0|       0|       1|       0|            0|\n",
      "|   83|           0|                  1|             0|          0|         1|          0|              1|               0|             0|              0|My #AstraZeneca j...|         0|         0|         1|                joy|                        joy|    vaccinated|   #covid #astrazeneca|           35|Wed Mar 17 06:44:...|1.37208E+18|     TRUE|                   null|            8|            41|  en| SydesJokes|Colin Sydes #FBPE...|🇬🇧 Father Briti...|        FALSE|              175999|['AstraZeneca', '...|     []|         0|                1|           0|        0|       1|        0|            0|             0|           0|            0|         0|       0|       1|       0|            0|\n",
      "+-----+------------+-------------------+--------------+-----------+----------+-----------+---------------+----------------+--------------+---------------+--------------------+----------+----------+----------+-------------------+---------------------------+--------------+----------------------+-------------+--------------------+-----------+---------+-----------------------+-------------+--------------+----+-----------+--------------------+--------------------+-------------+--------------------+--------------------+-------+----------+-----------------+------------+---------+--------+---------+-------------+--------------+------------+-------------+----------+--------+--------+--------+-------------+\n",
      "only showing top 5 rows\n",
      "\n"
     ]
    }
   ],
   "source": [
    "spark = sparknlp.start()\n",
    "data = spark.read.option(\"delimiter\", \"\\t\") \\\n",
    "                 .option(\"header\", \"true\") \\\n",
    "                 .csv(\"joined_preds_manual_tabdelim.txt\")\n",
    "print(data.count())\n",
    "data.show(5)"
   ]
  },
  {
   "cell_type": "markdown",
   "metadata": {
    "id": "BJHtfZTbpdmA"
   },
   "source": [
    "## Spark NLP Emotion Modeling\n",
    "Downloading the pre-trained Spark NLP Emotion Detection Classifier"
   ]
  },
  {
   "cell_type": "code",
   "execution_count": 5,
   "metadata": {
    "colab": {
     "base_uri": "https://localhost:8080/"
    },
    "executionInfo": {
     "elapsed": 168298,
     "status": "ok",
     "timestamp": 1620005826406,
     "user": {
      "displayName": "Congxin Xu",
      "photoUrl": "",
      "userId": "11724053780990891140"
     },
     "user_tz": 240
    },
    "id": "pVWzX7WEcOc2",
    "outputId": "26217d5b-6d69-454f-a20d-55e1a10060f2"
   },
   "outputs": [
    {
     "name": "stdout",
     "output_type": "stream",
     "text": [
      "tfhub_use download started this may take some time.\n",
      "Approximate size to download 923.7 MB\n",
      "[OK!]\n",
      "classifierdl_use_emotion download started this may take some time.\n",
      "Approximate size to download 21.3 MB\n",
      "[OK!]\n"
     ]
    }
   ],
   "source": [
    "MODEL_NAME='classifierdl_use_emotion'\n",
    "\n",
    "documentAssembler = DocumentAssembler() \\\n",
    "  .setInputCol(\"text\") \\\n",
    "  .setOutputCol(\"document\")\n",
    "    \n",
    "use = UniversalSentenceEncoder.pretrained(name=\"tfhub_use\", lang=\"en\")\\\n",
    "  .setInputCols([\"document\"])\\\n",
    "  .setOutputCol(\"sentence_embeddings\")\n",
    "\n",
    "\n",
    "sentimentdl = ClassifierDLModel.pretrained(name=MODEL_NAME)\\\n",
    "  .setInputCols([\"sentence_embeddings\"])\\\n",
    "  .setOutputCol(\"sentiment\")\n",
    "\n",
    "nlpPipeline = Pipeline(stages = [documentAssembler, use, sentimentdl])\n"
   ]
  },
  {
   "cell_type": "markdown",
   "metadata": {
    "id": "kOm88QAB9whd"
   },
   "source": [
    "Making Classifications"
   ]
  },
  {
   "cell_type": "code",
   "execution_count": 6,
   "metadata": {
    "colab": {
     "base_uri": "https://localhost:8080/"
    },
    "executionInfo": {
     "elapsed": 171940,
     "status": "ok",
     "timestamp": 1620005830054,
     "user": {
      "displayName": "Congxin Xu",
      "photoUrl": "",
      "userId": "11724053780990891140"
     },
     "user_tz": 240
    },
    "id": "_WZsDm5ydrBQ",
    "outputId": "a09af537-363e-42a3-dfbb-facdf7221826"
   },
   "outputs": [
    {
     "name": "stdout",
     "output_type": "stream",
     "text": [
      "+--------------------+---------+\n",
      "|            document|sentiment|\n",
      "+--------------------+---------+\n",
      "|This business abo...|     fear|\n",
      "|Coronavirus world...|      joy|\n",
      "|Part-2  *Step-by-...|      joy|\n",
      "|The European Medi...|     fear|\n",
      "|My #AstraZeneca j...|      joy|\n",
      "+--------------------+---------+\n",
      "only showing top 5 rows\n",
      "\n"
     ]
    }
   ],
   "source": [
    "# Create an empty Data Frame to store the results\n",
    "empty_df = spark.createDataFrame([['']]).toDF(\"text\")\n",
    "\n",
    "# Setting up the pipelien\n",
    "pipelineModel = nlpPipeline.fit(empty_df)\n",
    "# df = spark.createDataFrame(pd.DataFrame({\"text\": text_list}))\n",
    "\n",
    "# Transform the results\n",
    "result = pipelineModel.transform(data.select('text'))\n",
    "\n",
    "# Organize and display the results\n",
    "output = result.select(F.explode(F.arrays_zip('document.result', 'sentiment.result')).alias(\"cols\")) \\\n",
    "               .select(F.expr(\"cols['0']\").alias(\"document\"),\n",
    "                       F.expr(\"cols['1']\").alias(\"sentiment\"))\n",
    "output.show(5)"
   ]
  },
  {
   "cell_type": "markdown",
   "metadata": {
    "id": "seNyBqkVqxEu"
   },
   "source": [
    "## Model Evaluation"
   ]
  },
  {
   "cell_type": "code",
   "execution_count": 7,
   "metadata": {
    "colab": {
     "base_uri": "https://localhost:8080/"
    },
    "executionInfo": {
     "elapsed": 185679,
     "status": "ok",
     "timestamp": 1620005843799,
     "user": {
      "displayName": "Congxin Xu",
      "photoUrl": "",
      "userId": "11724053780990891140"
     },
     "user_tz": 240
    },
    "id": "U4hZA0Lvqq_p",
    "outputId": "7217e5fb-9e72-4d7f-ae54-4e31a9df6bde"
   },
   "outputs": [
    {
     "name": "stdout",
     "output_type": "stream",
     "text": [
      "400\n",
      "+-----+------------+-------------------+--------------+-----------+----------+-----------+---------------+----------------+--------------+---------------+--------------------+----------+----------+----------+-------------------+---------------------------+--------------+----------------------+-------------+--------------------+-----------+---------+-----------------------+-------------+--------------+----+-----------+--------------------+--------------------+-------------+--------------------+--------------------+-------+----------+-----------------+------------+---------+--------+---------+-------------+--------------+------------+-------------+----------+--------+--------+--------+-------------+--------------------+---------+\n",
      "|index|anger_manual|anticipation_manual|disgust_manual|fear_manual|joy_manual|love_manual|optimism_manual|pessimism_manual|sadness_manual|surprise_manual|                text|neg_manual|neu_manual|pos_manual|main_emotion_manual|main_emotion_reduced_manual|  label_manual|scraped_hashtag_manual|scraped_order|          created_at|     id_str|truncated|in_reply_to_screen_name|retweet_count|favorite_count|lang|screen_name|           user_name|    user_description|user_verified|user_followers_count|            hashtags|symbols|anger_pred|anticipation_pred|disgust_pred|fear_pred|joy_pred|love_pred|optimism_pred|pessimism_pred|sadness_pred|surprise_pred|trust_pred|neg_pred|neu_pred|pos_pred|compound_pred|            document|sentiment|\n",
      "+-----+------------+-------------------+--------------+-----------+----------+-----------+---------------+----------------+--------------+---------------+--------------------+----------+----------+----------+-------------------+---------------------------+--------------+----------------------+-------------+--------------------+-----------+---------+-----------------------+-------------+--------------+----+-----------+--------------------+--------------------+-------------+--------------------+--------------------+-------+----------+-----------------+------------+---------+--------+---------+-------------+--------------+------------+-------------+----------+--------+--------+--------+-------------+--------------------+---------+\n",
      "|   61|           1|                  0|             0|          0|         0|          0|              0|               1|             0|              0|This business abo...|         1|         0|         0|              anger|                    sadness|misinformation|  #covid-19 #astraz...|           37|Wed Mar 17 08:05:...| 1.3721E+18|     TRUE|                   null|            0|             0|  en|  Cru5ad3Rs|            Crusader|Join us in our ba...|        FALSE|                   0|                  []|     []|         1|                0|           1|        0|       0|        0|            0|             0|           0|            0|         0|       0|       1|       0|            0|This business abo...|     fear|\n",
      "|   63|           0|                  0|             0|          0|         0|          0|              0|               0|             0|              0|Coronavirus world...|         0|         1|         0|            neutral|                   surprise|          news|  #covid-19 #astraz...|           37|Wed Mar 17 08:03:...| 1.3721E+18|     TRUE|                   null|            2|             2|  en|IlkhaAgency|               ILKHA|Official Twitter ...|         TRUE|                4710|['CoronavirusPand...|     []|         0|                0|           0|        0|       0|        0|            0|             0|           0|            0|         0|       0|     0.8|     0.2|        0.128|Coronavirus world...|      joy|\n",
      "|   64|           0|                  0|             0|          0|         0|          0|              0|               0|             0|              0|Part-2  *Step-by-...|         0|         1|         0|            neutral|                   surprise|          news|  #covid-19 #astraz...|           35|Wed Mar 17 07:52:...|1.37209E+18|     TRUE|                   null|            0|             0|  en|  reema5392|          Reema Awan|Entrepreneur, Dig...|        FALSE|                 197|     ['AstraZeneca']|     []|         0|                0|           0|        0|       0|        0|            0|             0|           0|            0|         0|       0|    0.82|    0.18|       0.5106|Part-2  *Step-by-...|      joy|\n",
      "|   78|           0|                  0|             0|          0|         0|          0|              0|               0|             0|              0|The European Medi...|         0|         1|         0|            neutral|                   surprise|          news|  #covid-19 #astraz...|           37|Wed Mar 17 07:02:...|1.37208E+18|     TRUE|                   null|            3|            12|  en| IndiaToday|          IndiaToday|Brings you news b...|         TRUE|             5557862|                  []|     []|         0|                0|           0|        1|       0|        0|            0|             0|           0|            0|         0|       0|       1|       0|            0|The European Medi...|     fear|\n",
      "|   83|           0|                  1|             0|          0|         1|          0|              1|               0|             0|              0|My #AstraZeneca j...|         0|         0|         1|                joy|                        joy|    vaccinated|   #covid #astrazeneca|           35|Wed Mar 17 06:44:...|1.37208E+18|     TRUE|                   null|            8|            41|  en| SydesJokes|Colin Sydes #FBPE...|🇬🇧 Father Briti...|        FALSE|              175999|['AstraZeneca', '...|     []|         0|                1|           0|        0|       1|        0|            0|             0|           0|            0|         0|       0|       1|       0|            0|My #AstraZeneca j...|      joy|\n",
      "+-----+------------+-------------------+--------------+-----------+----------+-----------+---------------+----------------+--------------+---------------+--------------------+----------+----------+----------+-------------------+---------------------------+--------------+----------------------+-------------+--------------------+-----------+---------+-----------------------+-------------+--------------+----+-----------+--------------------+--------------------+-------------+--------------------+--------------------+-------+----------+-----------------+------------+---------+--------+---------+-------------+--------------+------------+-------------+----------+--------+--------+--------+-------------+--------------------+---------+\n",
      "only showing top 5 rows\n",
      "\n"
     ]
    }
   ],
   "source": [
    "output = data.join(output, data.text == output.document, how='left')\n",
    "print(output.count())\n",
    "output.show(5)"
   ]
  },
  {
   "cell_type": "code",
   "execution_count": 8,
   "metadata": {
    "colab": {
     "base_uri": "https://localhost:8080/"
    },
    "executionInfo": {
     "elapsed": 192132,
     "status": "ok",
     "timestamp": 1620005850257,
     "user": {
      "displayName": "Congxin Xu",
      "photoUrl": "",
      "userId": "11724053780990891140"
     },
     "user_tz": 240
    },
    "id": "SF2Xd0TdtxVE",
    "outputId": "98f1439a-99cb-414c-d730-857c499b67d2"
   },
   "outputs": [
    {
     "name": "stdout",
     "output_type": "stream",
     "text": [
      "+-----+------------+-------------------+--------------+-----------+----------+-----------+---------------+----------------+--------------+---------------+--------------------+----------+----------+----------+-------------------+---------------------------+--------------+----------------------+-------------+--------------------+-----------+---------+-----------------------+-------------+--------------+----+-----------+--------------------+--------------------+-------------+--------------------+--------------------+-------+----------+-----------------+------------+---------+--------+---------+-------------+--------------+------------+-------------+----------+--------+--------+--------+-------------+--------------------+---------+------------------+----------------------+-----------------+---------------------+--------------------+------------------------+-------------------+-----------------------+-----------------------+-------------------------+\n",
      "|index|anger_manual|anticipation_manual|disgust_manual|fear_manual|joy_manual|love_manual|optimism_manual|pessimism_manual|sadness_manual|surprise_manual|                text|neg_manual|neu_manual|pos_manual|main_emotion_manual|main_emotion_reduced_manual|  label_manual|scraped_hashtag_manual|scraped_order|          created_at|     id_str|truncated|in_reply_to_screen_name|retweet_count|favorite_count|lang|screen_name|           user_name|    user_description|user_verified|user_followers_count|            hashtags|symbols|anger_pred|anticipation_pred|disgust_pred|fear_pred|joy_pred|love_pred|optimism_pred|pessimism_pred|sadness_pred|surprise_pred|trust_pred|neg_pred|neu_pred|pos_pred|compound_pred|            document|sentiment|fear_pred_sparknlp|surprise_pred_sparknlp|joy_pred_sparknlp|sadness_pred_sparknlp|fear_actual_sparknlp|surprise_actual_sparknlp|joy_actual_sparknlp|sadness_actual_sparknlp|sentiment_pred_sparknlp|sentiment_actual_sparknlp|\n",
      "+-----+------------+-------------------+--------------+-----------+----------+-----------+---------------+----------------+--------------+---------------+--------------------+----------+----------+----------+-------------------+---------------------------+--------------+----------------------+-------------+--------------------+-----------+---------+-----------------------+-------------+--------------+----+-----------+--------------------+--------------------+-------------+--------------------+--------------------+-------+----------+-----------------+------------+---------+--------+---------+-------------+--------------+------------+-------------+----------+--------+--------+--------+-------------+--------------------+---------+------------------+----------------------+-----------------+---------------------+--------------------+------------------------+-------------------+-----------------------+-----------------------+-------------------------+\n",
      "|   61|           1|                  0|             0|          0|         0|          0|              0|               1|             0|              0|This business abo...|         1|         0|         0|              anger|                    sadness|misinformation|  #covid-19 #astraz...|           37|Wed Mar 17 08:05:...| 1.3721E+18|     TRUE|                   null|            0|             0|  en|  Cru5ad3Rs|            Crusader|Join us in our ba...|        FALSE|                   0|                  []|     []|         1|                0|           1|        0|       0|        0|            0|             0|           0|            0|         0|       0|       1|       0|            0|This business abo...|     fear|                 1|                     0|                0|                    0|                   0|                       0|                  0|                      1|                    2.0|                      3.0|\n",
      "|   63|           0|                  0|             0|          0|         0|          0|              0|               0|             0|              0|Coronavirus world...|         0|         1|         0|            neutral|                   surprise|          news|  #covid-19 #astraz...|           37|Wed Mar 17 08:03:...| 1.3721E+18|     TRUE|                   null|            2|             2|  en|IlkhaAgency|               ILKHA|Official Twitter ...|         TRUE|                4710|['CoronavirusPand...|     []|         0|                0|           0|        0|       0|        0|            0|             0|           0|            0|         0|       0|     0.8|     0.2|        0.128|Coronavirus world...|      joy|                 0|                     0|                1|                    0|                   0|                       1|                  0|                      0|                    0.0|                      1.0|\n",
      "|   64|           0|                  0|             0|          0|         0|          0|              0|               0|             0|              0|Part-2  *Step-by-...|         0|         1|         0|            neutral|                   surprise|          news|  #covid-19 #astraz...|           35|Wed Mar 17 07:52:...|1.37209E+18|     TRUE|                   null|            0|             0|  en|  reema5392|          Reema Awan|Entrepreneur, Dig...|        FALSE|                 197|     ['AstraZeneca']|     []|         0|                0|           0|        0|       0|        0|            0|             0|           0|            0|         0|       0|    0.82|    0.18|       0.5106|Part-2  *Step-by-...|      joy|                 0|                     0|                1|                    0|                   0|                       1|                  0|                      0|                    0.0|                      1.0|\n",
      "|   78|           0|                  0|             0|          0|         0|          0|              0|               0|             0|              0|The European Medi...|         0|         1|         0|            neutral|                   surprise|          news|  #covid-19 #astraz...|           37|Wed Mar 17 07:02:...|1.37208E+18|     TRUE|                   null|            3|            12|  en| IndiaToday|          IndiaToday|Brings you news b...|         TRUE|             5557862|                  []|     []|         0|                0|           0|        1|       0|        0|            0|             0|           0|            0|         0|       0|       1|       0|            0|The European Medi...|     fear|                 1|                     0|                0|                    0|                   0|                       1|                  0|                      0|                    2.0|                      1.0|\n",
      "|   83|           0|                  1|             0|          0|         1|          0|              1|               0|             0|              0|My #AstraZeneca j...|         0|         0|         1|                joy|                        joy|    vaccinated|   #covid #astrazeneca|           35|Wed Mar 17 06:44:...|1.37208E+18|     TRUE|                   null|            8|            41|  en| SydesJokes|Colin Sydes #FBPE...|🇬🇧 Father Briti...|        FALSE|              175999|['AstraZeneca', '...|     []|         0|                1|           0|        0|       1|        0|            0|             0|           0|            0|         0|       0|       1|       0|            0|My #AstraZeneca j...|      joy|                 0|                     0|                1|                    0|                   1|                       0|                  1|                      0|                    0.0|                      0.0|\n",
      "+-----+------------+-------------------+--------------+-----------+----------+-----------+---------------+----------------+--------------+---------------+--------------------+----------+----------+----------+-------------------+---------------------------+--------------+----------------------+-------------+--------------------+-----------+---------+-----------------------+-------------+--------------+----+-----------+--------------------+--------------------+-------------+--------------------+--------------------+-------+----------+-----------------+------------+---------+--------+---------+-------------+--------------+------------+-------------+----------+--------+--------+--------+-------------+--------------------+---------+------------------+----------------------+-----------------+---------------------+--------------------+------------------------+-------------------+-----------------------+-----------------------+-------------------------+\n",
      "only showing top 5 rows\n",
      "\n"
     ]
    }
   ],
   "source": [
    "from pyspark.sql.functions import col, expr, when\n",
    "\n",
    "# Split the predictions\n",
    "fear_pred_sparknlp = expr(\"\"\"IF(sentiment == 'fear', 1, 0)\"\"\")\n",
    "surprise_pred_sparknlp = expr(\"\"\"IF(sentiment == 'surprise', 1, 0)\"\"\")\n",
    "joy_pred_sparknlp = expr(\"\"\"IF(sentiment == 'joy', 1, 0)\"\"\")\n",
    "sadness_pred_sparknlp = expr(\"\"\"IF(sentiment == 'sadness', 1, 0)\"\"\")\n",
    "sentiment_pred_sparknlp = when(col(\"sentiment\") == 'joy', 0.0) \\\n",
    "                          .when(col(\"sentiment\") == 'surprise', 1.0) \\\n",
    "                          .when(col(\"sentiment\") == 'fear', 2.0) \\\n",
    "                          .when(col(\"sentiment\") == 'sadness', 3.0)\n",
    "\n",
    "# Combine the actuals\n",
    "fear_actual_sparknlp = expr(\"\"\"IF(fear_manual == 1 OR disgust_manual == 1 OR anticipation_manual == 1, 1, 0)\"\"\")\n",
    "surprise_actual_sparknlp = expr(\"\"\"IF(surprise_manual == 1 OR neu_manual = 1, 1, 0)\"\"\")\n",
    "joy_actual_sparknlp = expr(\"\"\"IF(joy_manual == 1 OR optimism_manual == 1 OR love_manual == 1, 1, 0)\"\"\")\n",
    "sadness_actual_sparknlp = expr(\"\"\"IF(sadness_manual == 1 OR pessimism_manual == 1 OR anger_manual == 1, 1, 0)\"\"\")\n",
    "sentiment_actual_sparknlp = when(col(\"joy_actual_sparknlp\") == 1, 0.0) \\\n",
    "                            .when(col(\"surprise_actual_sparknlp\") == 1, 1.0) \\\n",
    "                            .when(col(\"fear_actual_sparknlp\") == 1, 2.0) \\\n",
    "                            .when(col(\"sadness_actual_sparknlp\") == 1, 3.0)\n",
    "\n",
    "# Add the additional columns\n",
    "output = output.withColumn(\"fear_pred_sparknlp\", fear_pred_sparknlp) \\\n",
    "               .withColumn(\"surprise_pred_sparknlp\", surprise_pred_sparknlp) \\\n",
    "               .withColumn(\"joy_pred_sparknlp\", joy_pred_sparknlp) \\\n",
    "               .withColumn(\"sadness_pred_sparknlp\", sadness_pred_sparknlp) \\\n",
    "               .withColumn(\"fear_actual_sparknlp\", fear_actual_sparknlp) \\\n",
    "               .withColumn(\"surprise_actual_sparknlp\", surprise_actual_sparknlp) \\\n",
    "               .withColumn(\"joy_actual_sparknlp\", joy_actual_sparknlp) \\\n",
    "               .withColumn(\"sadness_actual_sparknlp\", sadness_actual_sparknlp) \\\n",
    "               .withColumn(\"sentiment_pred_sparknlp\", sentiment_pred_sparknlp) \\\n",
    "               .withColumn(\"sentiment_actual_sparknlp\", sentiment_actual_sparknlp)\n",
    "output.show(5)"
   ]
  },
  {
   "cell_type": "markdown",
   "metadata": {
    "id": "gObnJ15oxkDk"
   },
   "source": [
    "Multiclass confusion matrix: \n",
    "https://spark.apache.org/docs/2.2.0/mllib-evaluation-metrics.html#multilabel-classification"
   ]
  },
  {
   "cell_type": "code",
   "execution_count": 9,
   "metadata": {
    "colab": {
     "base_uri": "https://localhost:8080/"
    },
    "executionInfo": {
     "elapsed": 199353,
     "status": "ok",
     "timestamp": 1620005857483,
     "user": {
      "displayName": "Congxin Xu",
      "photoUrl": "",
      "userId": "11724053780990891140"
     },
     "user_tz": 240
    },
    "id": "WHSK8zQAyeWX",
    "outputId": "55a0f27c-cd05-419b-ff4f-5f3ad8178f4d"
   },
   "outputs": [
    {
     "name": "stdout",
     "output_type": "stream",
     "text": [
      "joy, surprise, fear, sadness\n",
      "[[62. 13. 30.  4.]\n",
      " [53. 10. 68. 12.]\n",
      " [14.  9. 83.  9.]\n",
      " [ 5.  0. 23.  5.]]\n"
     ]
    }
   ],
   "source": [
    "# Confusion Matrix\n",
    "from pyspark.mllib.evaluation import MulticlassMetrics\n",
    "\n",
    "pl = output.select(col('sentiment_pred_sparknlp').alias('prediction'), \n",
    "                   col('sentiment_actual_sparknlp').alias('label')).rdd\n",
    "metrics = MulticlassMetrics(pl)\n",
    "\n",
    "print('joy, surprise, fear, sadness')\n",
    "print(metrics.confusionMatrix().toArray())"
   ]
  },
  {
   "cell_type": "code",
   "execution_count": 10,
   "metadata": {
    "colab": {
     "base_uri": "https://localhost:8080/"
    },
    "executionInfo": {
     "elapsed": 199349,
     "status": "ok",
     "timestamp": 1620005857484,
     "user": {
      "displayName": "Congxin Xu",
      "photoUrl": "",
      "userId": "11724053780990891140"
     },
     "user_tz": 240
    },
    "id": "QRg7Jpl2_KRK",
    "outputId": "55eb711c-1d70-4bb0-fbc3-893d1dbfb67a"
   },
   "outputs": [
    {
     "name": "stdout",
     "output_type": "stream",
     "text": [
      "Overall Accuracy rate is 0.4\n"
     ]
    }
   ],
   "source": [
    "# Total Accuracy\n",
    "print('Overall Accuracy rate is', metrics.accuracy)"
   ]
  },
  {
   "cell_type": "code",
   "execution_count": 11,
   "metadata": {
    "colab": {
     "base_uri": "https://localhost:8080/"
    },
    "executionInfo": {
     "elapsed": 199805,
     "status": "ok",
     "timestamp": 1620005857946,
     "user": {
      "displayName": "Congxin Xu",
      "photoUrl": "",
      "userId": "11724053780990891140"
     },
     "user_tz": 240
    },
    "id": "aNuE3zfW_MT3",
    "outputId": "7b7e7e3e-8c87-41bf-94e4-c4cb612f43a3"
   },
   "outputs": [
    {
     "name": "stdout",
     "output_type": "stream",
     "text": [
      "Class 0.0 F1 Measure = 0.5102880658436215\n",
      "Class 1.0 F1 Measure = 0.1142857142857143\n",
      "Class 2.0 F1 Measure = 0.5203761755485893\n",
      "Class 3.0 F1 Measure = 0.15873015873015872\n"
     ]
    }
   ],
   "source": [
    "# F1 Score\n",
    "labels = pl.map(lambda lp: lp.label).distinct().collect()\n",
    "for label in sorted(labels):\n",
    "    # print(\"Class %s precision = %s\" % (label, metrics.precision(label)))\n",
    "    # print(\"Class %s recall = %s\" % (label, metrics.recall(label)))\n",
    "    print(\"Class %s F1 Measure = %s\" % (label, metrics.fMeasure(label, beta=1.0)))"
   ]
  },
  {
   "cell_type": "code",
   "execution_count": 12,
   "metadata": {
    "colab": {
     "base_uri": "https://localhost:8080/"
    },
    "executionInfo": {
     "elapsed": 199801,
     "status": "ok",
     "timestamp": 1620005857946,
     "user": {
      "displayName": "Congxin Xu",
      "photoUrl": "",
      "userId": "11724053780990891140"
     },
     "user_tz": 240
    },
    "id": "wm0WDGPN-fDo",
    "outputId": "9385de26-0a8c-4d79-9f1e-e5895aa32825"
   },
   "outputs": [
    {
     "name": "stdout",
     "output_type": "stream",
     "text": [
      "Class 0.0 precision = 0.4626865671641791\n",
      "Class 1.0 precision = 0.3125\n",
      "Class 2.0 precision = 0.4068627450980392\n",
      "Class 3.0 precision = 0.16666666666666666\n",
      "\n",
      "\n",
      "Overall Precision rate is 0.3125\n"
     ]
    }
   ],
   "source": [
    "# Precision\n",
    "for label in sorted(labels):\n",
    "    print(\"Class %s precision = %s\" % (label, metrics.precision(label)))\n",
    "print(\"\\n\")\n",
    "print('Overall Precision rate is', metrics.precision(1.0))"
   ]
  },
  {
   "cell_type": "code",
   "execution_count": 13,
   "metadata": {
    "executionInfo": {
     "elapsed": 205945,
     "status": "ok",
     "timestamp": 1620005864092,
     "user": {
      "displayName": "Congxin Xu",
      "photoUrl": "",
      "userId": "11724053780990891140"
     },
     "user_tz": 240
    },
    "id": "hntq1I6QU3f3"
   },
   "outputs": [],
   "source": [
    "output.toPandas().to_csv('3_model_output_all.csv', sep = '\\t')"
   ]
  },
  {
   "cell_type": "code",
   "execution_count": 14,
   "metadata": {
    "colab": {
     "base_uri": "https://localhost:8080/"
    },
    "executionInfo": {
     "elapsed": 206977,
     "status": "ok",
     "timestamp": 1620005865129,
     "user": {
      "displayName": "Congxin Xu",
      "photoUrl": "",
      "userId": "11724053780990891140"
     },
     "user_tz": 240
    },
    "id": "cLsQAuM4W1Hc",
    "outputId": "0fb57234-15df-4c97-b557-470ad2ab3541"
   },
   "outputs": [
    {
     "name": "stdout",
     "output_type": "stream",
     "text": [
      "400\n",
      "+---+-----+------------+-------------------+--------------+-----------+----------+-----------+---------------+----------------+--------------+---------------+--------------------+----------+----------+----------+-------------------+---------------------------+--------------+----------------------+-------------+--------------------+-----------+---------+-----------------------+-------------+--------------+----+-----------+--------------------+--------------------+-------------+--------------------+--------------------+-------+----------+-----------------+------------+---------+--------+---------+-------------+--------------+------------+-------------+----------+--------+--------+--------+-------------+--------------------+---------+------------------+----------------------+-----------------+---------------------+--------------------+------------------------+-------------------+-----------------------+-----------------------+-------------------------+\n",
      "|_c0|index|anger_manual|anticipation_manual|disgust_manual|fear_manual|joy_manual|love_manual|optimism_manual|pessimism_manual|sadness_manual|surprise_manual|                text|neg_manual|neu_manual|pos_manual|main_emotion_manual|main_emotion_reduced_manual|  label_manual|scraped_hashtag_manual|scraped_order|          created_at|     id_str|truncated|in_reply_to_screen_name|retweet_count|favorite_count|lang|screen_name|           user_name|    user_description|user_verified|user_followers_count|            hashtags|symbols|anger_pred|anticipation_pred|disgust_pred|fear_pred|joy_pred|love_pred|optimism_pred|pessimism_pred|sadness_pred|surprise_pred|trust_pred|neg_pred|neu_pred|pos_pred|compound_pred|            document|sentiment|fear_pred_sparknlp|surprise_pred_sparknlp|joy_pred_sparknlp|sadness_pred_sparknlp|fear_actual_sparknlp|surprise_actual_sparknlp|joy_actual_sparknlp|sadness_actual_sparknlp|sentiment_pred_sparknlp|sentiment_actual_sparknlp|\n",
      "+---+-----+------------+-------------------+--------------+-----------+----------+-----------+---------------+----------------+--------------+---------------+--------------------+----------+----------+----------+-------------------+---------------------------+--------------+----------------------+-------------+--------------------+-----------+---------+-----------------------+-------------+--------------+----+-----------+--------------------+--------------------+-------------+--------------------+--------------------+-------+----------+-----------------+------------+---------+--------+---------+-------------+--------------+------------+-------------+----------+--------+--------+--------+-------------+--------------------+---------+------------------+----------------------+-----------------+---------------------+--------------------+------------------------+-------------------+-----------------------+-----------------------+-------------------------+\n",
      "|  0|   61|           1|                  0|             0|          0|         0|          0|              0|               1|             0|              0|This business abo...|         1|         0|         0|              anger|                    sadness|misinformation|  #covid-19 #astraz...|           37|Wed Mar 17 08:05:...| 1.3721E+18|     TRUE|                   null|            0|             0|  en|  Cru5ad3Rs|            Crusader|Join us in our ba...|        FALSE|                   0|                  []|     []|         1|                0|           1|        0|       0|        0|            0|             0|           0|            0|         0|       0|       1|       0|            0|This business abo...|     fear|                 1|                     0|                0|                    0|                   0|                       0|                  0|                      1|                    2.0|                      3.0|\n",
      "|  1|   63|           0|                  0|             0|          0|         0|          0|              0|               0|             0|              0|Coronavirus world...|         0|         1|         0|            neutral|                   surprise|          news|  #covid-19 #astraz...|           37|Wed Mar 17 08:03:...| 1.3721E+18|     TRUE|                   null|            2|             2|  en|IlkhaAgency|               ILKHA|Official Twitter ...|         TRUE|                4710|['CoronavirusPand...|     []|         0|                0|           0|        0|       0|        0|            0|             0|           0|            0|         0|       0|     0.8|     0.2|        0.128|Coronavirus world...|      joy|                 0|                     0|                1|                    0|                   0|                       1|                  0|                      0|                    0.0|                      1.0|\n",
      "|  2|   64|           0|                  0|             0|          0|         0|          0|              0|               0|             0|              0|Part-2  *Step-by-...|         0|         1|         0|            neutral|                   surprise|          news|  #covid-19 #astraz...|           35|Wed Mar 17 07:52:...|1.37209E+18|     TRUE|                   null|            0|             0|  en|  reema5392|          Reema Awan|Entrepreneur, Dig...|        FALSE|                 197|     ['AstraZeneca']|     []|         0|                0|           0|        0|       0|        0|            0|             0|           0|            0|         0|       0|    0.82|    0.18|       0.5106|Part-2  *Step-by-...|      joy|                 0|                     0|                1|                    0|                   0|                       1|                  0|                      0|                    0.0|                      1.0|\n",
      "|  3|   78|           0|                  0|             0|          0|         0|          0|              0|               0|             0|              0|The European Medi...|         0|         1|         0|            neutral|                   surprise|          news|  #covid-19 #astraz...|           37|Wed Mar 17 07:02:...|1.37208E+18|     TRUE|                   null|            3|            12|  en| IndiaToday|          IndiaToday|Brings you news b...|         TRUE|             5557862|                  []|     []|         0|                0|           0|        1|       0|        0|            0|             0|           0|            0|         0|       0|       1|       0|            0|The European Medi...|     fear|                 1|                     0|                0|                    0|                   0|                       1|                  0|                      0|                    2.0|                      1.0|\n",
      "|  4|   83|           0|                  1|             0|          0|         1|          0|              1|               0|             0|              0|My #AstraZeneca j...|         0|         0|         1|                joy|                        joy|    vaccinated|   #covid #astrazeneca|           35|Wed Mar 17 06:44:...|1.37208E+18|     TRUE|                   null|            8|            41|  en| SydesJokes|Colin Sydes #FBPE...|🇬🇧 Father Briti...|        FALSE|              175999|['AstraZeneca', '...|     []|         0|                1|           0|        0|       1|        0|            0|             0|           0|            0|         0|       0|       1|       0|            0|My #AstraZeneca j...|      joy|                 0|                     0|                1|                    0|                   1|                       0|                  1|                      0|                    0.0|                      0.0|\n",
      "+---+-----+------------+-------------------+--------------+-----------+----------+-----------+---------------+----------------+--------------+---------------+--------------------+----------+----------+----------+-------------------+---------------------------+--------------+----------------------+-------------+--------------------+-----------+---------+-----------------------+-------------+--------------+----+-----------+--------------------+--------------------+-------------+--------------------+--------------------+-------+----------+-----------------+------------+---------+--------+---------+-------------+--------------+------------+-------------+----------+--------+--------+--------+-------------+--------------------+---------+------------------+----------------------+-----------------+---------------------+--------------------+------------------------+-------------------+-----------------------+-----------------------+-------------------------+\n",
      "only showing top 5 rows\n",
      "\n"
     ]
    }
   ],
   "source": [
    "data = spark.read.option(\"delimiter\", \"\\t\") \\\n",
    "                 .option(\"header\", \"true\") \\\n",
    "                 .csv(\"3_model_output_all.csv\")\n",
    "print(data.count())\n",
    "data.show(5)"
   ]
  },
  {
   "cell_type": "code",
   "execution_count": 22,
   "metadata": {
    "colab": {
     "base_uri": "https://localhost:8080/"
    },
    "executionInfo": {
     "elapsed": 2878,
     "status": "ok",
     "timestamp": 1620006274564,
     "user": {
      "displayName": "Congxin Xu",
      "photoUrl": "",
      "userId": "11724053780990891140"
     },
     "user_tz": 240
    },
    "id": "KOFHRgBH4b7y",
    "outputId": "a86a2edc-c43d-4785-9bcc-e316264efe69"
   },
   "outputs": [
    {
     "name": "stdout",
     "output_type": "stream",
     "text": [
      "+--------------+\n",
      "|label_manual  |\n",
      "+--------------+\n",
      "|conversation  |\n",
      "|annoucement   |\n",
      "|joy           |\n",
      "|eugenics      |\n",
      "|shouting      |\n",
      "|news          |\n",
      "|statement     |\n",
      "|fact check    |\n",
      "|confusion     |\n",
      "|eugenics      |\n",
      "|clickbait     |\n",
      "|conspiracy    |\n",
      "|fake news     |\n",
      "|misinformation|\n",
      "|FYI           |\n",
      "|vaccinated    |\n",
      "|pessimism     |\n",
      "|anger         |\n",
      "|fear          |\n",
      "|isinformation |\n",
      "+--------------+\n",
      "only showing top 20 rows\n",
      "\n"
     ]
    }
   ],
   "source": [
    "data.select('label_manual').distinct().show(truncate = False)"
   ]
  }
 ],
 "metadata": {
  "colab": {
   "collapsed_sections": [],
   "name": "Spark NLP Emotion Model and Evaluation.ipynb",
   "provenance": [
    {
     "file_id": "1HAVyq-wdOY7RXR-C6XfNOK_APbKbCJhp",
     "timestamp": 1618520059322
    }
   ]
  },
  "kernelspec": {
   "display_name": "Python 3",
   "language": "python",
   "name": "python3"
  },
  "language_info": {
   "codemirror_mode": {
    "name": "ipython",
    "version": 3
   },
   "file_extension": ".py",
   "mimetype": "text/x-python",
   "name": "python",
   "nbconvert_exporter": "python",
   "pygments_lexer": "ipython3",
   "version": "3.7.6"
  }
 },
 "nbformat": 4,
 "nbformat_minor": 1
}
